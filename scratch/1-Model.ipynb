{
 "cells": [
  {
   "cell_type": "code",
   "execution_count": 3,
   "id": "vocal-transition",
   "metadata": {},
   "outputs": [
    {
     "name": "stderr",
     "output_type": "stream",
     "text": [
      "[nltk_data] Downloading package wordnet to /home/babu/nltk_data...\n",
      "[nltk_data]   Unzipping corpora/wordnet.zip.\n"
     ]
    },
    {
     "data": {
      "text/plain": [
       "True"
      ]
     },
     "execution_count": 3,
     "metadata": {},
     "output_type": "execute_result"
    }
   ],
   "source": [
    "import pandas as pd\n",
    "import requests \n",
    "import json \n",
    "import csv \n",
    "import time\n",
    "import datetime\n",
    "import nltk\n",
    "\n",
    "from sklearn.model_selection import train_test_split\n",
    "from sklearn.feature_extraction.text import CountVectorizer\n",
    "from sklearn.linear_model import LogisticRegression\n",
    "from sklearn.pipeline import make_pipeline\n",
    "from sklearn.preprocessing import StandardScaler\n",
    "from sklearn.model_selection import train_test_split\n",
    "from sklearn.dummy import DummyClassifier \n",
    "import numpy as np\n",
    "import matplotlib.pyplot as plt\n",
    "import pandas as pd\n",
    "from sklearn.tree import DecisionTreeClassifier\n",
    "from sklearn.model_selection import GridSearchCV, train_test_split, cross_val_score\n",
    "from sklearn.ensemble import RandomForestClassifier\n",
    "from sklearn.metrics import plot_confusion_matrix, confusion_matrix\n",
    "import seaborn as sns\n",
    "from sklearn.metrics import accuracy_score\n",
    "from sklearn.metrics import roc_auc_score\n",
    "from sklearn.metrics import plot_roc_curve\n",
    "from nltk.stem import WordNetLemmatizer\n",
    "from sklearn.naive_bayes import MultinomialNB\n",
    "\n",
    "nltk.download('wordnet')"
   ]
  },
  {
   "cell_type": "code",
   "execution_count": 5,
   "id": "reported-wayne",
   "metadata": {},
   "outputs": [],
   "source": [
    "def print_scores(model):\n",
    "    print(f'train score: {model.score(X_train, y_train)}')\n",
    "    print(f'test score: {model.score(X_test, y_test)}')"
   ]
  },
  {
   "cell_type": "code",
   "execution_count": 6,
   "id": "informal-stopping",
   "metadata": {},
   "outputs": [],
   "source": [
    "df_reviews = pd.read_csv('../data/Las_Vegas_400_reviews.csv')\n",
    "df_revs_combined = df_reviews.groupby(['business_id', 'name', \n",
    "                               'address', 'city' ,\n",
    "                               'state', 'postal_code', \n",
    "                               'latitude' ,'longitude' , \n",
    "                               'stars', 'review_count', \n",
    "                               'is_open', 'attributes', 'categories']).agg({'text': ' '.join})\n",
    "df_revs_combined = df_revs_combined.reset_index()\n",
    "df_revs_combined['review_wc'] = df_revs_combined['text'].str.split().str.len()\n",
    "\n",
    "X = df_revs_combined['text']\n",
    "y = df_revs_combined['is_open']\n",
    "\n",
    "X_train, X_test, y_train, y_test = train_test_split(X, y, random_state=251)"
   ]
  },
  {
   "cell_type": "code",
   "execution_count": 43,
   "id": "mechanical-replication",
   "metadata": {},
   "outputs": [
    {
     "data": {
      "text/plain": [
       "((297,), (100,), (297,), (100,))"
      ]
     },
     "execution_count": 43,
     "metadata": {},
     "output_type": "execute_result"
    }
   ],
   "source": [
    "X_train.shape, X_test.shape, y_train.shape, y_test.shape "
   ]
  },
  {
   "cell_type": "code",
   "execution_count": 7,
   "id": "rental-owner",
   "metadata": {},
   "outputs": [],
   "source": [
    "pipe = make_pipeline(CountVectorizer(max_features=500), \n",
    "                     StandardScaler(with_mean=False),\n",
    "                     RandomForestClassifier()\n",
    "                    )"
   ]
  },
  {
   "cell_type": "code",
   "execution_count": 8,
   "id": "handed-position",
   "metadata": {},
   "outputs": [
    {
     "data": {
      "text/plain": [
       "Pipeline(steps=[('countvectorizer', CountVectorizer(max_features=500)),\n",
       "                ('standardscaler', StandardScaler(with_mean=False)),\n",
       "                ('randomforestclassifier', RandomForestClassifier())])"
      ]
     },
     "execution_count": 8,
     "metadata": {},
     "output_type": "execute_result"
    }
   ],
   "source": [
    "pipe.fit(X_train, y_train)"
   ]
  },
  {
   "cell_type": "code",
   "execution_count": 9,
   "id": "rural-chair",
   "metadata": {},
   "outputs": [
    {
     "name": "stdout",
     "output_type": "stream",
     "text": [
      "train score: 1.0\n",
      "test score: 0.65\n"
     ]
    }
   ],
   "source": [
    "print_scores(pipe)"
   ]
  },
  {
   "cell_type": "markdown",
   "id": "recovered-edward",
   "metadata": {},
   "source": [
    "# MultinomialNB"
   ]
  },
  {
   "cell_type": "code",
   "execution_count": 10,
   "id": "criminal-spine",
   "metadata": {},
   "outputs": [],
   "source": [
    "lemmatizer = WordNetLemmatizer()\n",
    "def split_lemmatize(text):\n",
    "    text_lower = text.lower()\n",
    "    lemmatizer = WordNetLemmatizer()\n",
    "    return \" \".join([ lemmatizer.lemmatize(x)  for x in text_lower.split()])"
   ]
  },
  {
   "cell_type": "code",
   "execution_count": 11,
   "id": "suspended-applicant",
   "metadata": {},
   "outputs": [],
   "source": [
    "pipe = make_pipeline(CountVectorizer(preprocessor=split_lemmatize,  max_features=100), \n",
    "                    MultinomialNB())"
   ]
  },
  {
   "cell_type": "code",
   "execution_count": 12,
   "id": "collected-avatar",
   "metadata": {},
   "outputs": [
    {
     "data": {
      "text/plain": [
       "Pipeline(steps=[('countvectorizer',\n",
       "                 CountVectorizer(max_features=100,\n",
       "                                 preprocessor=<function split_lemmatize at 0x7fdd5a739280>)),\n",
       "                ('multinomialnb', MultinomialNB())])"
      ]
     },
     "execution_count": 12,
     "metadata": {},
     "output_type": "execute_result"
    }
   ],
   "source": [
    "pipe.fit(X_train, y_train)"
   ]
  },
  {
   "cell_type": "code",
   "execution_count": 13,
   "id": "serial-missile",
   "metadata": {},
   "outputs": [
    {
     "name": "stdout",
     "output_type": "stream",
     "text": [
      "train score: 0.6936026936026936\n",
      "test score: 0.61\n"
     ]
    }
   ],
   "source": [
    "print_scores(pipe)"
   ]
  },
  {
   "cell_type": "code",
   "execution_count": 15,
   "id": "spoken-crest",
   "metadata": {},
   "outputs": [],
   "source": [
    "y_mnb_preds = pipe.predict(X_test)"
   ]
  },
  {
   "cell_type": "code",
   "execution_count": 16,
   "id": "qualified-university",
   "metadata": {},
   "outputs": [
    {
     "name": "stdout",
     "output_type": "stream",
     "text": [
      "[[31 20]\n",
      " [19 30]]\n"
     ]
    }
   ],
   "source": [
    "conf_mat = confusion_matrix(y_test, y_lr_preds)\n",
    "print(conf_mat)"
   ]
  },
  {
   "cell_type": "code",
   "execution_count": 17,
   "id": "strange-architect",
   "metadata": {},
   "outputs": [
    {
     "name": "stdout",
     "output_type": "stream",
     "text": [
      "31 20 19 30\n"
     ]
    }
   ],
   "source": [
    "tn, fp, fn,tp = confusion_matrix(y_test, y_lr_preds).ravel()\n",
    "print(tn, fp, fn,tp)"
   ]
  },
  {
   "cell_type": "code",
   "execution_count": 18,
   "id": "voluntary-lending",
   "metadata": {},
   "outputs": [
    {
     "data": {
      "text/plain": [
       "<sklearn.metrics._plot.confusion_matrix.ConfusionMatrixDisplay at 0x7fddf446fd00>"
      ]
     },
     "execution_count": 18,
     "metadata": {},
     "output_type": "execute_result"
    },
    {
     "data": {
      "image/png": "[encoded data removed]",
      "text/plain": [
       "<Figure size 432x288 with 2 Axes>"
      ]
     },
     "metadata": {
      "needs_background": "light"
     },
     "output_type": "display_data"
    }
   ],
   "source": [
    "plot_confusion_matrix(pipe, X_test,  y_test)"
   ]
  },
  {
   "cell_type": "code",
   "execution_count": 19,
   "id": "acute-roads",
   "metadata": {},
   "outputs": [
    {
     "data": {
      "image/png": "[encoded data removed]",
      "text/plain": [
       "<Figure size 432x288 with 1 Axes>"
      ]
     },
     "metadata": {
      "needs_background": "light"
     },
     "output_type": "display_data"
    }
   ],
   "source": [
    "plot_roc_curve(pipe, X_test, y_test);"
   ]
  },
  {
   "cell_type": "code",
   "execution_count": 20,
   "id": "stylish-inspector",
   "metadata": {},
   "outputs": [
    {
     "name": "stdout",
     "output_type": "stream",
     "text": [
      " Precision: 0.6\n",
      " Recall: 0.6122448979591837\n",
      " Specificity: 0.6122448979591837\n",
      " Balanced Accuracy: 0.6100440176070427\n",
      " Accuracy Score: 0.61\n",
      " False Positive Rate : 0.39215686274509803\n"
     ]
    }
   ],
   "source": [
    "precision = tp / (tp+fp)\n",
    "recall = tp / (tp+fn)\n",
    "specificity = tn/(tn+fp)\n",
    "balanced_accuracy = (specificity + recall)/2\n",
    "ac = accuracy_score(y_test, y_lr_preds)\n",
    "fpr = fp / (fp+tn) # False Positive Rate \n",
    "print(f\" Precision: {precision}\")\n",
    "print(f\" Recall: {recall}\")\n",
    "print(f\" Specificity: {recall}\")\n",
    "print(f\" Balanced Accuracy: {balanced_accuracy}\")\n",
    "print(f\" Accuracy Score: {ac}\")\n",
    "print(f\" False Positive Rate : {fpr}\")"
   ]
  },
  {
   "cell_type": "markdown",
   "id": "angry-better",
   "metadata": {},
   "source": [
    "# Keras"
   ]
  },
  {
   "cell_type": "code",
   "execution_count": 101,
   "id": "usual-insert",
   "metadata": {},
   "outputs": [],
   "source": [
    "from keras.wrappers.scikit_learn import KerasClassifier\n",
    "import pandas as pd\n",
    "import numpy as np\n",
    "\n",
    "from keras.models import Sequential\n",
    "from keras.layers import Dense, BatchNormalization,Dropout\n",
    "\n",
    "from sklearn.model_selection import GridSearchCV, train_test_split\n",
    "from sklearn.pipeline import make_pipeline\n",
    "from sklearn.preprocessing import StandardScaler\n",
    "from sklearn.feature_extraction.text import CountVectorizer, TfidfVectorizer"
   ]
  },
  {
   "cell_type": "code",
   "execution_count": 58,
   "id": "animal-blame",
   "metadata": {},
   "outputs": [],
   "source": [
    "# def create_model(units=10):\n",
    "#     model = Sequential()\n",
    "#     model.add(Dense(12, activation='relu'))\n",
    "#     model.add(Dense(units = units, activation='relu'))\n",
    "#     model.add(Dense(1, activation='sigmoid'))\n",
    "#     model.compile(loss='binary_crossentropy', optimizer='adam', metrics=['accuracy'])\n",
    "#     return model"
   ]
  },
  {
   "cell_type": "code",
   "execution_count": 92,
   "id": "right-horizontal",
   "metadata": {},
   "outputs": [],
   "source": [
    "# def create_model(units=60):\n",
    "#     model = Sequential()\n",
    "#     model.add(Dense(12, input_shape=(750,), activation='relu'))\n",
    "#     model.add(BatchNormalization())\n",
    "#     model.add(Dense(units = units, activation='relu'))\n",
    "#     model.add(Dense(units = units, activation='relu'))\n",
    "#     model.add(Dense(1, activation='sigmoid'))\n",
    "#     model.compile(loss='binary_crossentropy', optimizer='adam', metrics=['accuracy'])\n",
    "#     return model"
   ]
  },
  {
   "cell_type": "code",
   "execution_count": 119,
   "id": "preceding-hayes",
   "metadata": {},
   "outputs": [],
   "source": [
    "def create_model(units=60):\n",
    "    model = Sequential()\n",
    "    model.add(Dense(12, input_shape=(750,), activation='relu'))\n",
    "    model.add(BatchNormalization())\n",
    "    model.add(Dense(512, activation='relu'))\n",
    "    model.add(Dropout(.4))\n",
    "    model.add(Dense(256, activation='relu'))\n",
    "    model.add(Dropout(.3))\n",
    "    model.add(Dense(128, activation='relu'))\n",
    "    model.add(Dropout(.2))\n",
    "    model.add(Dense(64, activation='relu'))\n",
    "    model.add(Dropout(.2))\n",
    "    model.add(Dense(1, activation='sigmoid'))\n",
    "    model.compile(loss='binary_crossentropy', optimizer='adam', metrics=['accuracy'])\n",
    "    return model"
   ]
  },
  {
   "cell_type": "code",
   "execution_count": 112,
   "id": "human-premises",
   "metadata": {},
   "outputs": [],
   "source": [
    "#model = KerasClassifier(build_fn=create_model, epochs = 10, verbose = 0)\n",
    "model = KerasClassifier(build_fn=create_model, epochs = 10)"
   ]
  },
  {
   "cell_type": "code",
   "execution_count": null,
   "id": "medieval-honor",
   "metadata": {},
   "outputs": [],
   "source": []
  },
  {
   "cell_type": "code",
   "execution_count": 60,
   "id": "rural-literature",
   "metadata": {},
   "outputs": [],
   "source": [
    "sscaler = StandardScaler(with_mean=False)\n",
    "tf_vect = TfidfVectorizer(stop_words='english', max_features=750)\n",
    "\n",
    "\n"
   ]
  },
  {
   "cell_type": "code",
   "execution_count": 63,
   "id": "adequate-earthquake",
   "metadata": {},
   "outputs": [],
   "source": [
    "X_train_trans = tf_vect.fit_transform(X_train)"
   ]
  },
  {
   "cell_type": "code",
   "execution_count": 64,
   "id": "significant-thunder",
   "metadata": {},
   "outputs": [],
   "source": [
    "X_test_trans = tf_vect.transform(X_test)"
   ]
  },
  {
   "cell_type": "code",
   "execution_count": 65,
   "id": "analyzed-knitting",
   "metadata": {},
   "outputs": [],
   "source": [
    "X_train_trans = X_train_trans.toarray()\n",
    "X_test_trans = X_test_trans.toarray()"
   ]
  },
  {
   "cell_type": "code",
   "execution_count": 113,
   "id": "generous-creek",
   "metadata": {},
   "outputs": [],
   "source": [
    "pipe = make_pipeline(sscaler,model)"
   ]
  },
  {
   "cell_type": "code",
   "execution_count": 77,
   "id": "russian-pennsylvania",
   "metadata": {},
   "outputs": [
    {
     "data": {
      "text/plain": [
       "((297, 750), (100, 750))"
      ]
     },
     "execution_count": 77,
     "metadata": {},
     "output_type": "execute_result"
    }
   ],
   "source": [
    "X_train_trans.shape, X_test_trans.shape"
   ]
  },
  {
   "cell_type": "code",
   "execution_count": 94,
   "id": "modified-premium",
   "metadata": {},
   "outputs": [
    {
     "data": {
      "text/plain": [
       "Pipeline(steps=[('standardscaler', StandardScaler(with_mean=False)),\n",
       "                ('kerasclassifier',\n",
       "                 <tensorflow.python.keras.wrappers.scikit_learn.KerasClassifier object at 0x7fdcf82d8d90>)])"
      ]
     },
     "execution_count": 94,
     "metadata": {},
     "output_type": "execute_result"
    }
   ],
   "source": [
    "pipe.fit(X_train_trans, y_train)"
   ]
  },
  {
   "cell_type": "code",
   "execution_count": 95,
   "id": "advisory-diagram",
   "metadata": {},
   "outputs": [],
   "source": [
    "params = {'kerasclassifier__units': [10, 20, 100]}"
   ]
  },
  {
   "cell_type": "code",
   "execution_count": 114,
   "id": "reverse-kentucky",
   "metadata": {},
   "outputs": [],
   "source": [
    "grid = GridSearchCV(pipe, param_grid=params)"
   ]
  },
  {
   "cell_type": "code",
   "execution_count": 115,
   "id": "opposed-variable",
   "metadata": {},
   "outputs": [
    {
     "name": "stdout",
     "output_type": "stream",
     "text": [
      "Epoch 1/10\n",
      "8/8 [==============================] - 0s 1ms/step - loss: 0.6905 - accuracy: 0.5278\n",
      "Epoch 2/10\n",
      "8/8 [==============================] - 0s 1ms/step - loss: 0.6668 - accuracy: 0.6252\n",
      "Epoch 3/10\n",
      "8/8 [==============================] - 0s 2ms/step - loss: 0.6199 - accuracy: 0.7394\n",
      "Epoch 4/10\n",
      "8/8 [==============================] - 0s 2ms/step - loss: 0.5476 - accuracy: 0.7818\n",
      "Epoch 5/10\n",
      "8/8 [==============================] - 0s 2ms/step - loss: 0.4676 - accuracy: 0.8068\n",
      "Epoch 6/10\n",
      "8/8 [==============================] - 0s 1ms/step - loss: 0.3267 - accuracy: 0.8960\n",
      "Epoch 7/10\n",
      "8/8 [==============================] - 0s 2ms/step - loss: 0.2056 - accuracy: 0.9429\n",
      "Epoch 8/10\n",
      "8/8 [==============================] - 0s 2ms/step - loss: 0.2024 - accuracy: 0.9252\n",
      "Epoch 9/10\n",
      "8/8 [==============================] - 0s 2ms/step - loss: 0.1062 - accuracy: 0.9782\n",
      "Epoch 10/10\n",
      "8/8 [==============================] - 0s 1ms/step - loss: 0.0577 - accuracy: 0.9765\n",
      "2/2 [==============================] - 0s 1ms/step - loss: 0.8606 - accuracy: 0.7500\n",
      "Epoch 1/10\n",
      "8/8 [==============================] - 0s 1ms/step - loss: 0.7112 - accuracy: 0.5162\n",
      "Epoch 2/10\n",
      "8/8 [==============================] - 0s 2ms/step - loss: 0.6593 - accuracy: 0.6302\n",
      "Epoch 3/10\n",
      "8/8 [==============================] - 0s 2ms/step - loss: 0.6081 - accuracy: 0.7031\n",
      "Epoch 4/10\n",
      "8/8 [==============================] - 0s 2ms/step - loss: 0.5363 - accuracy: 0.8159\n",
      "Epoch 5/10\n",
      "8/8 [==============================] - 0s 2ms/step - loss: 0.4201 - accuracy: 0.8726\n",
      "Epoch 6/10\n",
      "8/8 [==============================] - 0s 2ms/step - loss: 0.3260 - accuracy: 0.9167\n",
      "Epoch 7/10\n",
      "8/8 [==============================] - 0s 2ms/step - loss: 0.2502 - accuracy: 0.9110\n",
      "Epoch 8/10\n",
      "8/8 [==============================] - 0s 2ms/step - loss: 0.1777 - accuracy: 0.9422\n",
      "Epoch 9/10\n",
      "8/8 [==============================] - 0s 2ms/step - loss: 0.0929 - accuracy: 0.9820\n",
      "Epoch 10/10\n",
      "8/8 [==============================] - 0s 2ms/step - loss: 0.0419 - accuracy: 0.9980\n",
      "2/2 [==============================] - 0s 2ms/step - loss: 1.3623 - accuracy: 0.7000\n",
      "Epoch 1/10\n",
      "8/8 [==============================] - 0s 1ms/step - loss: 0.6839 - accuracy: 0.5689\n",
      "Epoch 2/10\n",
      "8/8 [==============================] - 0s 2ms/step - loss: 0.6541 - accuracy: 0.6182\n",
      "Epoch 3/10\n",
      "8/8 [==============================] - 0s 2ms/step - loss: 0.6106 - accuracy: 0.6606\n",
      "Epoch 4/10\n",
      "8/8 [==============================] - 0s 2ms/step - loss: 0.5107 - accuracy: 0.8051\n",
      "Epoch 5/10\n",
      "8/8 [==============================] - 0s 2ms/step - loss: 0.4655 - accuracy: 0.7829\n",
      "Epoch 6/10\n",
      "8/8 [==============================] - 0s 2ms/step - loss: 0.3435 - accuracy: 0.8715\n",
      "Epoch 7/10\n",
      "8/8 [==============================] - 0s 2ms/step - loss: 0.2154 - accuracy: 0.9258\n",
      "Epoch 8/10\n",
      "8/8 [==============================] - 0s 2ms/step - loss: 0.1192 - accuracy: 0.9817\n",
      "Epoch 9/10\n",
      "8/8 [==============================] - 0s 1ms/step - loss: 0.0934 - accuracy: 0.9721\n",
      "Epoch 10/10\n",
      "8/8 [==============================] - 0s 1ms/step - loss: 0.0481 - accuracy: 0.9930\n",
      "2/2 [==============================] - 0s 1ms/step - loss: 1.5272 - accuracy: 0.6780\n",
      "Epoch 1/10\n",
      "8/8 [==============================] - 0s 1ms/step - loss: 0.7168 - accuracy: 0.4513\n",
      "Epoch 2/10\n",
      "8/8 [==============================] - 0s 2ms/step - loss: 0.6646 - accuracy: 0.5216\n",
      "Epoch 3/10\n",
      "8/8 [==============================] - 0s 1ms/step - loss: 0.6354 - accuracy: 0.6413\n",
      "Epoch 4/10\n",
      "8/8 [==============================] - 0s 2ms/step - loss: 0.5349 - accuracy: 0.7846\n",
      "Epoch 5/10\n",
      "8/8 [==============================] - 0s 2ms/step - loss: 0.4871 - accuracy: 0.7814\n",
      "Epoch 6/10\n",
      "8/8 [==============================] - 0s 2ms/step - loss: 0.3660 - accuracy: 0.8511\n",
      "Epoch 7/10\n",
      "8/8 [==============================] - 0s 2ms/step - loss: 0.2528 - accuracy: 0.9011\n",
      "Epoch 8/10\n",
      "8/8 [==============================] - 0s 2ms/step - loss: 0.1970 - accuracy: 0.9433\n",
      "Epoch 9/10\n",
      "8/8 [==============================] - 0s 2ms/step - loss: 0.1036 - accuracy: 0.9725\n",
      "Epoch 10/10\n",
      "8/8 [==============================] - 0s 2ms/step - loss: 0.0975 - accuracy: 0.9673\n",
      "WARNING:tensorflow:5 out of the last 21 calls to <function Model.make_test_function.<locals>.test_function at 0x7fdce1edd1f0> triggered tf.function retracing. Tracing is expensive and the excessive number of tracings could be due to (1) creating @tf.function repeatedly in a loop, (2) passing tensors with different shapes, (3) passing Python objects instead of tensors. For (1), please define your @tf.function outside of the loop. For (2), @tf.function has experimental_relax_shapes=True option that relaxes argument shapes that can avoid unnecessary retracing. For (3), please refer to https://www.tensorflow.org/guide/function#controlling_retracing and https://www.tensorflow.org/api_docs/python/tf/function for  more details.\n",
      "2/2 [==============================] - 0s 1ms/step - loss: 1.2402 - accuracy: 0.7458\n",
      "Epoch 1/10\n",
      "8/8 [==============================] - 0s 1ms/step - loss: 0.7148 - accuracy: 0.5316\n",
      "Epoch 2/10\n",
      "8/8 [==============================] - 0s 2ms/step - loss: 0.6585 - accuracy: 0.6615\n",
      "Epoch 3/10\n",
      "8/8 [==============================] - 0s 2ms/step - loss: 0.6108 - accuracy: 0.7230\n",
      "Epoch 4/10\n",
      "8/8 [==============================] - 0s 2ms/step - loss: 0.5620 - accuracy: 0.7709\n",
      "Epoch 5/10\n",
      "8/8 [==============================] - 0s 2ms/step - loss: 0.4922 - accuracy: 0.7932\n",
      "Epoch 6/10\n",
      "8/8 [==============================] - 0s 2ms/step - loss: 0.4203 - accuracy: 0.8163\n",
      "Epoch 7/10\n",
      "8/8 [==============================] - 0s 2ms/step - loss: 0.3109 - accuracy: 0.9064\n",
      "Epoch 8/10\n",
      "8/8 [==============================] - 0s 2ms/step - loss: 0.2785 - accuracy: 0.8880\n",
      "Epoch 9/10\n",
      "8/8 [==============================] - 0s 1ms/step - loss: 0.1917 - accuracy: 0.9364\n",
      "Epoch 10/10\n",
      "8/8 [==============================] - 0s 2ms/step - loss: 0.1521 - accuracy: 0.9456\n",
      "WARNING:tensorflow:6 out of the last 23 calls to <function Model.make_test_function.<locals>.test_function at 0x7fdce1eceee0> triggered tf.function retracing. Tracing is expensive and the excessive number of tracings could be due to (1) creating @tf.function repeatedly in a loop, (2) passing tensors with different shapes, (3) passing Python objects instead of tensors. For (1), please define your @tf.function outside of the loop. For (2), @tf.function has experimental_relax_shapes=True option that relaxes argument shapes that can avoid unnecessary retracing. For (3), please refer to https://www.tensorflow.org/guide/function#controlling_retracing and https://www.tensorflow.org/api_docs/python/tf/function for  more details.\n",
      "2/2 [==============================] - 0s 1ms/step - loss: 0.9610 - accuracy: 0.6949\n",
      "Epoch 1/10\n",
      "8/8 [==============================] - 0s 1ms/step - loss: 0.7032 - accuracy: 0.4782\n",
      "Epoch 2/10\n",
      "8/8 [==============================] - 0s 2ms/step - loss: 0.6517 - accuracy: 0.6480\n",
      "Epoch 3/10\n",
      "8/8 [==============================] - 0s 2ms/step - loss: 0.6197 - accuracy: 0.7169\n",
      "Epoch 4/10\n",
      "8/8 [==============================] - 0s 1ms/step - loss: 0.5611 - accuracy: 0.7292\n",
      "Epoch 5/10\n",
      "8/8 [==============================] - 0s 2ms/step - loss: 0.4724 - accuracy: 0.7710\n",
      "Epoch 6/10\n",
      "8/8 [==============================] - 0s 2ms/step - loss: 0.4002 - accuracy: 0.8591\n",
      "Epoch 7/10\n",
      "8/8 [==============================] - 0s 2ms/step - loss: 0.2873 - accuracy: 0.9194\n",
      "Epoch 8/10\n",
      "8/8 [==============================] - 0s 2ms/step - loss: 0.1935 - accuracy: 0.9339\n",
      "Epoch 9/10\n",
      "8/8 [==============================] - 0s 2ms/step - loss: 0.1540 - accuracy: 0.9541\n",
      "Epoch 10/10\n",
      "8/8 [==============================] - 0s 2ms/step - loss: 0.0643 - accuracy: 0.9792\n",
      "WARNING:tensorflow:6 out of the last 11 calls to <function Model.make_test_function.<locals>.test_function at 0x7fdd1c429ee0> triggered tf.function retracing. Tracing is expensive and the excessive number of tracings could be due to (1) creating @tf.function repeatedly in a loop, (2) passing tensors with different shapes, (3) passing Python objects instead of tensors. For (1), please define your @tf.function outside of the loop. For (2), @tf.function has experimental_relax_shapes=True option that relaxes argument shapes that can avoid unnecessary retracing. For (3), please refer to https://www.tensorflow.org/guide/function#controlling_retracing and https://www.tensorflow.org/api_docs/python/tf/function for  more details.\n",
      "2/2 [==============================] - 0s 1ms/step - loss: 1.4545 - accuracy: 0.6833\n",
      "Epoch 1/10\n",
      "8/8 [==============================] - 0s 1ms/step - loss: 0.7127 - accuracy: 0.4272\n",
      "Epoch 2/10\n",
      "8/8 [==============================] - 0s 2ms/step - loss: 0.6681 - accuracy: 0.6005\n",
      "Epoch 3/10\n",
      "8/8 [==============================] - 0s 2ms/step - loss: 0.6433 - accuracy: 0.6784\n",
      "Epoch 4/10\n",
      "8/8 [==============================] - 0s 2ms/step - loss: 0.5911 - accuracy: 0.7097\n",
      "Epoch 5/10\n",
      "8/8 [==============================] - 0s 2ms/step - loss: 0.5170 - accuracy: 0.7685\n",
      "Epoch 6/10\n",
      "8/8 [==============================] - 0s 2ms/step - loss: 0.4561 - accuracy: 0.8023\n",
      "Epoch 7/10\n",
      "8/8 [==============================] - 0s 2ms/step - loss: 0.3691 - accuracy: 0.8484\n",
      "Epoch 8/10\n",
      "8/8 [==============================] - 0s 2ms/step - loss: 0.2722 - accuracy: 0.9132\n",
      "Epoch 9/10\n",
      "8/8 [==============================] - 0s 2ms/step - loss: 0.1609 - accuracy: 0.9618\n",
      "Epoch 10/10\n",
      "8/8 [==============================] - 0s 2ms/step - loss: 0.1307 - accuracy: 0.9844\n",
      "WARNING:tensorflow:6 out of the last 11 calls to <function Model.make_test_function.<locals>.test_function at 0x7fdd4cf74940> triggered tf.function retracing. Tracing is expensive and the excessive number of tracings could be due to (1) creating @tf.function repeatedly in a loop, (2) passing tensors with different shapes, (3) passing Python objects instead of tensors. For (1), please define your @tf.function outside of the loop. For (2), @tf.function has experimental_relax_shapes=True option that relaxes argument shapes that can avoid unnecessary retracing. For (3), please refer to https://www.tensorflow.org/guide/function#controlling_retracing and https://www.tensorflow.org/api_docs/python/tf/function for  more details.\n",
      "2/2 [==============================] - 0s 1ms/step - loss: 1.5504 - accuracy: 0.5667\n",
      "Epoch 1/10\n",
      "8/8 [==============================] - 0s 1ms/step - loss: 0.6982 - accuracy: 0.5182\n",
      "Epoch 2/10\n",
      "8/8 [==============================] - 0s 2ms/step - loss: 0.6524 - accuracy: 0.6454\n",
      "Epoch 3/10\n",
      "8/8 [==============================] - 0s 2ms/step - loss: 0.6182 - accuracy: 0.6765\n",
      "Epoch 4/10\n",
      "8/8 [==============================] - 0s 2ms/step - loss: 0.5587 - accuracy: 0.7200\n",
      "Epoch 5/10\n",
      "8/8 [==============================] - 0s 2ms/step - loss: 0.4718 - accuracy: 0.8005\n",
      "Epoch 6/10\n",
      "8/8 [==============================] - 0s 2ms/step - loss: 0.4280 - accuracy: 0.8371\n",
      "Epoch 7/10\n",
      "8/8 [==============================] - 0s 2ms/step - loss: 0.3274 - accuracy: 0.8974\n",
      "Epoch 8/10\n",
      "8/8 [==============================] - 0s 2ms/step - loss: 0.2883 - accuracy: 0.9193\n",
      "Epoch 9/10\n",
      "8/8 [==============================] - 0s 2ms/step - loss: 0.2164 - accuracy: 0.9336\n",
      "Epoch 10/10\n",
      "8/8 [==============================] - 0s 2ms/step - loss: 0.1266 - accuracy: 0.9596\n",
      "WARNING:tensorflow:6 out of the last 11 calls to <function Model.make_test_function.<locals>.test_function at 0x7fdce018c0d0> triggered tf.function retracing. Tracing is expensive and the excessive number of tracings could be due to (1) creating @tf.function repeatedly in a loop, (2) passing tensors with different shapes, (3) passing Python objects instead of tensors. For (1), please define your @tf.function outside of the loop. For (2), @tf.function has experimental_relax_shapes=True option that relaxes argument shapes that can avoid unnecessary retracing. For (3), please refer to https://www.tensorflow.org/guide/function#controlling_retracing and https://www.tensorflow.org/api_docs/python/tf/function for  more details.\n",
      "2/2 [==============================] - 0s 1ms/step - loss: 0.7586 - accuracy: 0.7288\n",
      "Epoch 1/10\n",
      "8/8 [==============================] - 0s 1ms/step - loss: 0.7106 - accuracy: 0.4251\n",
      "Epoch 2/10\n",
      "8/8 [==============================] - 0s 2ms/step - loss: 0.6676 - accuracy: 0.6128\n",
      "Epoch 3/10\n",
      "8/8 [==============================] - 0s 2ms/step - loss: 0.6142 - accuracy: 0.7017\n",
      "Epoch 4/10\n",
      "8/8 [==============================] - 0s 2ms/step - loss: 0.5560 - accuracy: 0.7437\n",
      "Epoch 5/10\n",
      "8/8 [==============================] - 0s 2ms/step - loss: 0.4905 - accuracy: 0.7687\n",
      "Epoch 6/10\n",
      "8/8 [==============================] - 0s 2ms/step - loss: 0.3814 - accuracy: 0.8460\n",
      "Epoch 7/10\n",
      "8/8 [==============================] - 0s 2ms/step - loss: 0.3112 - accuracy: 0.8859\n",
      "Epoch 8/10\n",
      "8/8 [==============================] - 0s 2ms/step - loss: 0.1966 - accuracy: 0.9431\n",
      "Epoch 9/10\n",
      "8/8 [==============================] - 0s 2ms/step - loss: 0.1584 - accuracy: 0.9404\n",
      "Epoch 10/10\n",
      "8/8 [==============================] - 0s 2ms/step - loss: 0.0957 - accuracy: 0.9714\n",
      "WARNING:tensorflow:6 out of the last 11 calls to <function Model.make_test_function.<locals>.test_function at 0x7fdcc47d39d0> triggered tf.function retracing. Tracing is expensive and the excessive number of tracings could be due to (1) creating @tf.function repeatedly in a loop, (2) passing tensors with different shapes, (3) passing Python objects instead of tensors. For (1), please define your @tf.function outside of the loop. For (2), @tf.function has experimental_relax_shapes=True option that relaxes argument shapes that can avoid unnecessary retracing. For (3), please refer to https://www.tensorflow.org/guide/function#controlling_retracing and https://www.tensorflow.org/api_docs/python/tf/function for  more details.\n",
      "2/2 [==============================] - 0s 1ms/step - loss: 1.4614 - accuracy: 0.6949\n",
      "Epoch 1/10\n",
      "8/8 [==============================] - 0s 1ms/step - loss: 0.7025 - accuracy: 0.5024\n",
      "Epoch 2/10\n",
      "8/8 [==============================] - 0s 2ms/step - loss: 0.6739 - accuracy: 0.6029\n",
      "Epoch 3/10\n",
      "8/8 [==============================] - 0s 1ms/step - loss: 0.6311 - accuracy: 0.6876\n",
      "Epoch 4/10\n",
      "8/8 [==============================] - 0s 2ms/step - loss: 0.5972 - accuracy: 0.7191\n",
      "Epoch 5/10\n",
      "8/8 [==============================] - 0s 2ms/step - loss: 0.5269 - accuracy: 0.7741\n",
      "Epoch 6/10\n",
      "8/8 [==============================] - 0s 2ms/step - loss: 0.4222 - accuracy: 0.8011\n",
      "Epoch 7/10\n",
      "8/8 [==============================] - 0s 2ms/step - loss: 0.2937 - accuracy: 0.8943\n",
      "Epoch 8/10\n",
      "8/8 [==============================] - 0s 2ms/step - loss: 0.2249 - accuracy: 0.9131\n",
      "Epoch 9/10\n",
      "8/8 [==============================] - 0s 2ms/step - loss: 0.1295 - accuracy: 0.9592\n",
      "Epoch 10/10\n",
      "8/8 [==============================] - 0s 2ms/step - loss: 0.0706 - accuracy: 0.9709\n",
      "WARNING:tensorflow:6 out of the last 11 calls to <function Model.make_test_function.<locals>.test_function at 0x7fdd1c4d1430> triggered tf.function retracing. Tracing is expensive and the excessive number of tracings could be due to (1) creating @tf.function repeatedly in a loop, (2) passing tensors with different shapes, (3) passing Python objects instead of tensors. For (1), please define your @tf.function outside of the loop. For (2), @tf.function has experimental_relax_shapes=True option that relaxes argument shapes that can avoid unnecessary retracing. For (3), please refer to https://www.tensorflow.org/guide/function#controlling_retracing and https://www.tensorflow.org/api_docs/python/tf/function for  more details.\n",
      "2/2 [==============================] - 0s 1ms/step - loss: 1.0151 - accuracy: 0.7458\n",
      "Epoch 1/10\n",
      "8/8 [==============================] - 0s 1ms/step - loss: 0.7063 - accuracy: 0.5155\n",
      "Epoch 2/10\n",
      "8/8 [==============================] - 0s 2ms/step - loss: 0.6513 - accuracy: 0.6624\n",
      "Epoch 3/10\n",
      "8/8 [==============================] - 0s 2ms/step - loss: 0.6291 - accuracy: 0.6725\n",
      "Epoch 4/10\n",
      "8/8 [==============================] - 0s 2ms/step - loss: 0.5528 - accuracy: 0.7548\n",
      "Epoch 5/10\n",
      "8/8 [==============================] - 0s 2ms/step - loss: 0.4829 - accuracy: 0.8225\n",
      "Epoch 6/10\n",
      "8/8 [==============================] - 0s 2ms/step - loss: 0.4302 - accuracy: 0.8107\n",
      "Epoch 7/10\n",
      "8/8 [==============================] - 0s 2ms/step - loss: 0.2820 - accuracy: 0.9196\n",
      "Epoch 8/10\n",
      "8/8 [==============================] - 0s 2ms/step - loss: 0.1910 - accuracy: 0.9458\n",
      "Epoch 9/10\n",
      "8/8 [==============================] - 0s 2ms/step - loss: 0.1347 - accuracy: 0.9516\n",
      "Epoch 10/10\n",
      "8/8 [==============================] - 0s 2ms/step - loss: 0.0725 - accuracy: 0.9778\n",
      "WARNING:tensorflow:6 out of the last 11 calls to <function Model.make_test_function.<locals>.test_function at 0x7fdce00784c0> triggered tf.function retracing. Tracing is expensive and the excessive number of tracings could be due to (1) creating @tf.function repeatedly in a loop, (2) passing tensors with different shapes, (3) passing Python objects instead of tensors. For (1), please define your @tf.function outside of the loop. For (2), @tf.function has experimental_relax_shapes=True option that relaxes argument shapes that can avoid unnecessary retracing. For (3), please refer to https://www.tensorflow.org/guide/function#controlling_retracing and https://www.tensorflow.org/api_docs/python/tf/function for  more details.\n",
      "2/2 [==============================] - 0s 1ms/step - loss: 1.0308 - accuracy: 0.7000\n",
      "Epoch 1/10\n",
      "8/8 [==============================] - 0s 1ms/step - loss: 0.7079 - accuracy: 0.4966\n",
      "Epoch 2/10\n",
      "8/8 [==============================] - 0s 2ms/step - loss: 0.6671 - accuracy: 0.5953\n",
      "Epoch 3/10\n",
      "8/8 [==============================] - 0s 2ms/step - loss: 0.6333 - accuracy: 0.6744\n",
      "Epoch 4/10\n",
      "8/8 [==============================] - 0s 2ms/step - loss: 0.5540 - accuracy: 0.7416\n",
      "Epoch 5/10\n",
      "8/8 [==============================] - 0s 1ms/step - loss: 0.5057 - accuracy: 0.7701\n",
      "Epoch 6/10\n",
      "8/8 [==============================] - 0s 2ms/step - loss: 0.3795 - accuracy: 0.8728\n",
      "Epoch 7/10\n",
      "8/8 [==============================] - 0s 2ms/step - loss: 0.3383 - accuracy: 0.8819\n",
      "Epoch 8/10\n",
      "8/8 [==============================] - 0s 2ms/step - loss: 0.2577 - accuracy: 0.8897\n",
      "Epoch 9/10\n",
      "8/8 [==============================] - 0s 2ms/step - loss: 0.1690 - accuracy: 0.9451\n",
      "Epoch 10/10\n",
      "8/8 [==============================] - 0s 2ms/step - loss: 0.1076 - accuracy: 0.9695\n",
      "WARNING:tensorflow:6 out of the last 11 calls to <function Model.make_test_function.<locals>.test_function at 0x7fdcc428a0d0> triggered tf.function retracing. Tracing is expensive and the excessive number of tracings could be due to (1) creating @tf.function repeatedly in a loop, (2) passing tensors with different shapes, (3) passing Python objects instead of tensors. For (1), please define your @tf.function outside of the loop. For (2), @tf.function has experimental_relax_shapes=True option that relaxes argument shapes that can avoid unnecessary retracing. For (3), please refer to https://www.tensorflow.org/guide/function#controlling_retracing and https://www.tensorflow.org/api_docs/python/tf/function for  more details.\n",
      "2/2 [==============================] - 0s 1ms/step - loss: 1.2186 - accuracy: 0.6500\n",
      "Epoch 1/10\n",
      "8/8 [==============================] - 1s 1ms/step - loss: 0.7026 - accuracy: 0.4643\n",
      "Epoch 2/10\n",
      "8/8 [==============================] - 0s 2ms/step - loss: 0.6631 - accuracy: 0.6509\n",
      "Epoch 3/10\n",
      "8/8 [==============================] - 0s 2ms/step - loss: 0.6475 - accuracy: 0.6893\n",
      "Epoch 4/10\n",
      "8/8 [==============================] - 0s 2ms/step - loss: 0.6083 - accuracy: 0.7068\n",
      "Epoch 5/10\n",
      "8/8 [==============================] - 0s 2ms/step - loss: 0.5571 - accuracy: 0.7403\n",
      "Epoch 6/10\n",
      "8/8 [==============================] - 0s 2ms/step - loss: 0.4366 - accuracy: 0.8084\n",
      "Epoch 7/10\n",
      "8/8 [==============================] - 0s 2ms/step - loss: 0.3752 - accuracy: 0.8467\n",
      "Epoch 8/10\n",
      "8/8 [==============================] - 0s 2ms/step - loss: 0.2066 - accuracy: 0.9430\n",
      "Epoch 9/10\n",
      "8/8 [==============================] - 0s 2ms/step - loss: 0.1648 - accuracy: 0.9532\n",
      "Epoch 10/10\n",
      "8/8 [==============================] - 0s 2ms/step - loss: 0.0944 - accuracy: 0.9706\n",
      "WARNING:tensorflow:6 out of the last 11 calls to <function Model.make_test_function.<locals>.test_function at 0x7fdce0066160> triggered tf.function retracing. Tracing is expensive and the excessive number of tracings could be due to (1) creating @tf.function repeatedly in a loop, (2) passing tensors with different shapes, (3) passing Python objects instead of tensors. For (1), please define your @tf.function outside of the loop. For (2), @tf.function has experimental_relax_shapes=True option that relaxes argument shapes that can avoid unnecessary retracing. For (3), please refer to https://www.tensorflow.org/guide/function#controlling_retracing and https://www.tensorflow.org/api_docs/python/tf/function for  more details.\n",
      "2/2 [==============================] - 0s 2ms/step - loss: 0.8074 - accuracy: 0.7797\n",
      "Epoch 1/10\n",
      "8/8 [==============================] - 0s 1ms/step - loss: 0.6922 - accuracy: 0.5073\n",
      "Epoch 2/10\n",
      "8/8 [==============================] - 0s 2ms/step - loss: 0.6727 - accuracy: 0.6017\n",
      "Epoch 3/10\n",
      "8/8 [==============================] - 0s 2ms/step - loss: 0.6707 - accuracy: 0.5823\n",
      "Epoch 4/10\n",
      "8/8 [==============================] - 0s 2ms/step - loss: 0.6277 - accuracy: 0.6943\n",
      "Epoch 5/10\n",
      "8/8 [==============================] - 0s 2ms/step - loss: 0.5757 - accuracy: 0.7326\n",
      "Epoch 6/10\n",
      "8/8 [==============================] - 0s 2ms/step - loss: 0.5108 - accuracy: 0.7732\n",
      "Epoch 7/10\n",
      "8/8 [==============================] - 0s 2ms/step - loss: 0.4251 - accuracy: 0.8306\n",
      "Epoch 8/10\n",
      "8/8 [==============================] - 0s 2ms/step - loss: 0.3185 - accuracy: 0.8766\n",
      "Epoch 9/10\n",
      "8/8 [==============================] - 0s 2ms/step - loss: 0.2601 - accuracy: 0.9270\n",
      "Epoch 10/10\n",
      "8/8 [==============================] - 0s 2ms/step - loss: 0.1534 - accuracy: 0.9607\n",
      "WARNING:tensorflow:6 out of the last 11 calls to <function Model.make_test_function.<locals>.test_function at 0x7fdd1c184ca0> triggered tf.function retracing. Tracing is expensive and the excessive number of tracings could be due to (1) creating @tf.function repeatedly in a loop, (2) passing tensors with different shapes, (3) passing Python objects instead of tensors. For (1), please define your @tf.function outside of the loop. For (2), @tf.function has experimental_relax_shapes=True option that relaxes argument shapes that can avoid unnecessary retracing. For (3), please refer to https://www.tensorflow.org/guide/function#controlling_retracing and https://www.tensorflow.org/api_docs/python/tf/function for  more details.\n",
      "2/2 [==============================] - 0s 2ms/step - loss: 0.9652 - accuracy: 0.7119\n",
      "Epoch 1/10\n",
      "8/8 [==============================] - 0s 1ms/step - loss: 0.7082 - accuracy: 0.5302\n",
      "Epoch 2/10\n",
      "8/8 [==============================] - 0s 2ms/step - loss: 0.6672 - accuracy: 0.6479\n",
      "Epoch 3/10\n",
      "8/8 [==============================] - 0s 1ms/step - loss: 0.6424 - accuracy: 0.6415\n",
      "Epoch 4/10\n",
      "8/8 [==============================] - 0s 2ms/step - loss: 0.5987 - accuracy: 0.7194\n",
      "Epoch 5/10\n",
      "8/8 [==============================] - 0s 2ms/step - loss: 0.5381 - accuracy: 0.7467\n",
      "Epoch 6/10\n",
      "8/8 [==============================] - 0s 2ms/step - loss: 0.4489 - accuracy: 0.8101\n",
      "Epoch 7/10\n",
      "8/8 [==============================] - 0s 2ms/step - loss: 0.3448 - accuracy: 0.8807\n",
      "Epoch 8/10\n",
      "8/8 [==============================] - 0s 2ms/step - loss: 0.2608 - accuracy: 0.9206\n",
      "Epoch 9/10\n",
      "8/8 [==============================] - 0s 2ms/step - loss: 0.2120 - accuracy: 0.9068\n",
      "Epoch 10/10\n",
      "8/8 [==============================] - 0s 2ms/step - loss: 0.1391 - accuracy: 0.9515\n",
      "WARNING:tensorflow:6 out of the last 11 calls to <function Model.make_test_function.<locals>.test_function at 0x7fdd242cae50> triggered tf.function retracing. Tracing is expensive and the excessive number of tracings could be due to (1) creating @tf.function repeatedly in a loop, (2) passing tensors with different shapes, (3) passing Python objects instead of tensors. For (1), please define your @tf.function outside of the loop. For (2), @tf.function has experimental_relax_shapes=True option that relaxes argument shapes that can avoid unnecessary retracing. For (3), please refer to https://www.tensorflow.org/guide/function#controlling_retracing and https://www.tensorflow.org/api_docs/python/tf/function for  more details.\n",
      "2/2 [==============================] - 0s 1ms/step - loss: 1.6413 - accuracy: 0.6949\n",
      "Epoch 1/10\n",
      "10/10 [==============================] - 0s 1ms/step - loss: 0.7058 - accuracy: 0.4672\n",
      "Epoch 2/10\n",
      "10/10 [==============================] - 0s 2ms/step - loss: 0.6668 - accuracy: 0.5616\n",
      "Epoch 3/10\n",
      "10/10 [==============================] - 0s 2ms/step - loss: 0.6012 - accuracy: 0.7195\n",
      "Epoch 4/10\n",
      "10/10 [==============================] - 0s 2ms/step - loss: 0.5204 - accuracy: 0.7753\n",
      "Epoch 5/10\n",
      "10/10 [==============================] - 0s 2ms/step - loss: 0.4056 - accuracy: 0.8334\n",
      "Epoch 6/10\n",
      "10/10 [==============================] - 0s 2ms/step - loss: 0.3133 - accuracy: 0.8805\n",
      "Epoch 7/10\n",
      "10/10 [==============================] - 0s 2ms/step - loss: 0.2302 - accuracy: 0.9135\n",
      "Epoch 8/10\n",
      "10/10 [==============================] - 0s 2ms/step - loss: 0.1551 - accuracy: 0.9555\n",
      "Epoch 9/10\n",
      "10/10 [==============================] - 0s 2ms/step - loss: 0.1053 - accuracy: 0.9599\n",
      "Epoch 10/10\n",
      "10/10 [==============================] - 0s 2ms/step - loss: 0.0525 - accuracy: 0.9960\n"
     ]
    },
    {
     "data": {
      "text/plain": [
       "GridSearchCV(estimator=Pipeline(steps=[('standardscaler',\n",
       "                                        StandardScaler(with_mean=False)),\n",
       "                                       ('kerasclassifier',\n",
       "                                        <tensorflow.python.keras.wrappers.scikit_learn.KerasClassifier object at 0x7fdcc46beaf0>)]),\n",
       "             param_grid={'kerasclassifier__units': [10, 20, 100]})"
      ]
     },
     "execution_count": 115,
     "metadata": {},
     "output_type": "execute_result"
    }
   ],
   "source": [
    "grid.fit(X_train_trans, y_train)"
   ]
  },
  {
   "cell_type": "code",
   "execution_count": 116,
   "id": "absolute-mattress",
   "metadata": {},
   "outputs": [
    {
     "name": "stdout",
     "output_type": "stream",
     "text": [
      "WARNING:tensorflow:6 out of the last 11 calls to <function Model.make_test_function.<locals>.test_function at 0x7fdcc47d3dc0> triggered tf.function retracing. Tracing is expensive and the excessive number of tracings could be due to (1) creating @tf.function repeatedly in a loop, (2) passing tensors with different shapes, (3) passing Python objects instead of tensors. For (1), please define your @tf.function outside of the loop. For (2), @tf.function has experimental_relax_shapes=True option that relaxes argument shapes that can avoid unnecessary retracing. For (3), please refer to https://www.tensorflow.org/guide/function#controlling_retracing and https://www.tensorflow.org/api_docs/python/tf/function for  more details.\n",
      "10/10 [==============================] - 0s 618us/step - loss: 0.0498 - accuracy: 0.9865\n"
     ]
    },
    {
     "data": {
      "text/plain": [
       "0.9865319728851318"
      ]
     },
     "execution_count": 116,
     "metadata": {},
     "output_type": "execute_result"
    }
   ],
   "source": [
    "grid.score(X_train_trans, y_train)"
   ]
  },
  {
   "cell_type": "code",
   "execution_count": 117,
   "id": "polish-flash",
   "metadata": {},
   "outputs": [
    {
     "name": "stdout",
     "output_type": "stream",
     "text": [
      "4/4 [==============================] - 0s 864us/step - loss: 1.0025 - accuracy: 0.6900\n"
     ]
    },
    {
     "data": {
      "text/plain": [
       "0.6899999976158142"
      ]
     },
     "execution_count": 117,
     "metadata": {},
     "output_type": "execute_result"
    }
   ],
   "source": [
    "grid.score(X_test_trans, y_test)"
   ]
  },
  {
   "cell_type": "code",
   "execution_count": 118,
   "id": "ambient-porcelain",
   "metadata": {},
   "outputs": [
    {
     "data": {
      "text/plain": [
       "{'kerasclassifier__units': 10}"
      ]
     },
     "execution_count": 118,
     "metadata": {},
     "output_type": "execute_result"
    }
   ],
   "source": [
    "grid.best_params_"
   ]
  },
  {
   "cell_type": "code",
   "execution_count": null,
   "id": "incorrect-transaction",
   "metadata": {},
   "outputs": [],
   "source": []
  }
 ],
 "metadata": {
  "kernelspec": {
   "display_name": "Python 3",
   "language": "python",
   "name": "python3"
  },
  "language_info": {
   "codemirror_mode": {
    "name": "ipython",
    "version": 3
   },
   "file_extension": ".py",
   "mimetype": "text/x-python",
   "name": "python",
   "nbconvert_exporter": "python",
   "pygments_lexer": "ipython3",
   "version": "3.8.5"
  }
 },
 "nbformat": 4,
 "nbformat_minor": 5
}
