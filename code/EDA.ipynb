{
 "cells": [
  {
   "cell_type": "code",
   "execution_count": 2,
   "id": "sophisticated-reflection",
   "metadata": {},
   "outputs": [],
   "source": [
    "import pandas as pd\n",
    "import numpy as np\n",
    "import string\n",
    "import re\n",
    "import matplotlib.pyplot as plt\n",
    "\n",
    "from nltk.tokenize import word_tokenize\n",
    "from nltk.stem import WordNetLemmatizer\n",
    "from nltk.corpus import stopwords\n",
    "\n",
    "from sklearn.feature_extraction.text import CountVectorizer\n",
    "\n",
    "from vaderSentiment.vaderSentiment import SentimentIntensityAnalyzer"
   ]
  },
  {
   "cell_type": "code",
   "execution_count": 2,
   "id": "alien-train",
   "metadata": {},
   "outputs": [],
   "source": [
    "reviews = pd.read_csv('../data/Las_Vegas_400_reviews.csv')"
   ]
  },
  {
   "cell_type": "code",
   "execution_count": 3,
   "id": "handed-canada",
   "metadata": {},
   "outputs": [
    {
     "data": {
      "text/html": [
       "<div>\n",
       "<style scoped>\n",
       "    .dataframe tbody tr th:only-of-type {\n",
       "        vertical-align: middle;\n",
       "    }\n",
       "\n",
       "    .dataframe tbody tr th {\n",
       "        vertical-align: top;\n",
       "    }\n",
       "\n",
       "    .dataframe thead th {\n",
       "        text-align: right;\n",
       "    }\n",
       "</style>\n",
       "<table border=\"1\" class=\"dataframe\">\n",
       "  <thead>\n",
       "    <tr style=\"text-align: right;\">\n",
       "      <th></th>\n",
       "      <th>business_id</th>\n",
       "      <th>name</th>\n",
       "      <th>address</th>\n",
       "      <th>city</th>\n",
       "      <th>state</th>\n",
       "      <th>postal_code</th>\n",
       "      <th>latitude</th>\n",
       "      <th>longitude</th>\n",
       "      <th>stars</th>\n",
       "      <th>review_count</th>\n",
       "      <th>is_open</th>\n",
       "      <th>attributes</th>\n",
       "      <th>categories</th>\n",
       "      <th>hours</th>\n",
       "      <th>user_id</th>\n",
       "      <th>review_stars</th>\n",
       "      <th>text</th>\n",
       "      <th>date</th>\n",
       "    </tr>\n",
       "  </thead>\n",
       "  <tbody>\n",
       "    <tr>\n",
       "      <th>0</th>\n",
       "      <td>409qhf4RF0rlxcuaM576Qg</td>\n",
       "      <td>El Pollo Loco</td>\n",
       "      <td>5260 S Ft Apache</td>\n",
       "      <td>Las Vegas</td>\n",
       "      <td>NV</td>\n",
       "      <td>89148</td>\n",
       "      <td>36.0941</td>\n",
       "      <td>-115.296839</td>\n",
       "      <td>2.5</td>\n",
       "      <td>108</td>\n",
       "      <td>1</td>\n",
       "      <td>{'RestaurantsAttire': \"'casual'\", 'GoodForKids...</td>\n",
       "      <td>Restaurants, Mexican, Fast Food</td>\n",
       "      <td>{'Monday': '0:0-0:0', 'Tuesday': '9:30-23:0', ...</td>\n",
       "      <td>GmXOSEbXy8JXmvo9hM5WWQ</td>\n",
       "      <td>2.0</td>\n",
       "      <td>Came here quickly today to grab a burrito with...</td>\n",
       "      <td>2015-09-09 23:09:37</td>\n",
       "    </tr>\n",
       "    <tr>\n",
       "      <th>1</th>\n",
       "      <td>409qhf4RF0rlxcuaM576Qg</td>\n",
       "      <td>El Pollo Loco</td>\n",
       "      <td>5260 S Ft Apache</td>\n",
       "      <td>Las Vegas</td>\n",
       "      <td>NV</td>\n",
       "      <td>89148</td>\n",
       "      <td>36.0941</td>\n",
       "      <td>-115.296839</td>\n",
       "      <td>2.5</td>\n",
       "      <td>108</td>\n",
       "      <td>1</td>\n",
       "      <td>{'RestaurantsAttire': \"'casual'\", 'GoodForKids...</td>\n",
       "      <td>Restaurants, Mexican, Fast Food</td>\n",
       "      <td>{'Monday': '0:0-0:0', 'Tuesday': '9:30-23:0', ...</td>\n",
       "      <td>P8Rn03SOJg0NnExbOWhLZw</td>\n",
       "      <td>1.0</td>\n",
       "      <td>I really like el pollo loco but some things no...</td>\n",
       "      <td>2014-04-20 03:16:46</td>\n",
       "    </tr>\n",
       "  </tbody>\n",
       "</table>\n",
       "</div>"
      ],
      "text/plain": [
       "              business_id           name           address       city state  \\\n",
       "0  409qhf4RF0rlxcuaM576Qg  El Pollo Loco  5260 S Ft Apache  Las Vegas    NV   \n",
       "1  409qhf4RF0rlxcuaM576Qg  El Pollo Loco  5260 S Ft Apache  Las Vegas    NV   \n",
       "\n",
       "   postal_code  latitude   longitude  stars  review_count  is_open  \\\n",
       "0        89148   36.0941 -115.296839    2.5           108        1   \n",
       "1        89148   36.0941 -115.296839    2.5           108        1   \n",
       "\n",
       "                                          attributes  \\\n",
       "0  {'RestaurantsAttire': \"'casual'\", 'GoodForKids...   \n",
       "1  {'RestaurantsAttire': \"'casual'\", 'GoodForKids...   \n",
       "\n",
       "                        categories  \\\n",
       "0  Restaurants, Mexican, Fast Food   \n",
       "1  Restaurants, Mexican, Fast Food   \n",
       "\n",
       "                                               hours                 user_id  \\\n",
       "0  {'Monday': '0:0-0:0', 'Tuesday': '9:30-23:0', ...  GmXOSEbXy8JXmvo9hM5WWQ   \n",
       "1  {'Monday': '0:0-0:0', 'Tuesday': '9:30-23:0', ...  P8Rn03SOJg0NnExbOWhLZw   \n",
       "\n",
       "   review_stars                                               text  \\\n",
       "0           2.0  Came here quickly today to grab a burrito with...   \n",
       "1           1.0  I really like el pollo loco but some things no...   \n",
       "\n",
       "                  date  \n",
       "0  2015-09-09 23:09:37  \n",
       "1  2014-04-20 03:16:46  "
      ]
     },
     "execution_count": 3,
     "metadata": {},
     "output_type": "execute_result"
    }
   ],
   "source": [
    "reviews.head(2)"
   ]
  },
  {
   "cell_type": "markdown",
   "id": "appointed-twenty",
   "metadata": {},
   "source": [
    "# Feature Engineering"
   ]
  },
  {
   "cell_type": "code",
   "execution_count": 10,
   "id": "stretch-allowance",
   "metadata": {},
   "outputs": [],
   "source": [
    "# Character count\n",
    "reviews['char_count'] = reviews['text'].str.len()\n",
    "\n",
    "# Word count\n",
    "reviews['word_count'] = reviews['text'].str.split().str.len()"
   ]
  },
  {
   "cell_type": "code",
   "execution_count": 11,
   "id": "occasional-shopper",
   "metadata": {},
   "outputs": [],
   "source": [
    "# Sentiment analysis\n",
    "analyzer = SentimentIntensityAnalyzer()\n",
    "\n",
    "# From DSI Lesson 5.04-NLP-II\n",
    "def get_vader_neg(text):\n",
    "    return analyzer.polarity_scores(text)['neg']\n",
    "def get_vader_neu(text):\n",
    "    return analyzer.polarity_scores(text)['neu']\n",
    "def get_vader_pos(text):\n",
    "    return analyzer.polarity_scores(text)['pos']\n",
    "def get_vader_comp(text):\n",
    "    return analyzer.polarity_scores(text)['compound']\n",
    "\n",
    "reviews['vader_neg'] = reviews['text'].apply(lambda x: analyzer.polarity_scores(x)['neg'])\n",
    "reviews['vader_neu'] = reviews['text'].apply(lambda x: analyzer.polarity_scores(x)['neu'])\n",
    "reviews['vader_pos'] = reviews['text'].apply(lambda x: analyzer.polarity_scores(x)['pos'])\n",
    "reviews['vader_comp'] = reviews['text'].apply(lambda x: analyzer.polarity_scores(x)['compound'])"
   ]
  },
  {
   "cell_type": "code",
   "execution_count": 12,
   "id": "relative-tractor",
   "metadata": {},
   "outputs": [],
   "source": [
    "# save with engineered features\n",
    "reviews.to_csv('../data/reviews_with_eng_feats')"
   ]
  },
  {
   "cell_type": "markdown",
   "id": "russian-diagnosis",
   "metadata": {},
   "source": [
    "---"
   ]
  },
  {
   "cell_type": "code",
   "execution_count": 43,
   "id": "decimal-hopkins",
   "metadata": {},
   "outputs": [],
   "source": [
    "# read in csv so it isn't necessary to run vader../data/ent every time\n",
    "reviews = pd.read_csv('../data/reviews_with_eng_feats', index_col=0)"
   ]
  },
  {
   "cell_type": "code",
   "execution_count": 45,
   "id": "alternate-discipline",
   "metadata": {},
   "outputs": [],
   "source": [
    "# Separate into dataframes by open and closed\n",
    "open_reviews = reviews.loc[reviews['is_open']==1]\n",
    "closed_reviews = reviews.loc[reviews['is_open']==0]"
   ]
  },
  {
   "cell_type": "markdown",
   "id": "forty-chance",
   "metadata": {},
   "source": [
    "# Basic Analysis"
   ]
  },
  {
   "cell_type": "code",
   "execution_count": 8,
   "id": "anonymous-pattern",
   "metadata": {},
   "outputs": [
    {
     "data": {
      "text/plain": [
       "400"
      ]
     },
     "execution_count": 8,
     "metadata": {},
     "output_type": "execute_result"
    }
   ],
   "source": [
    "# number of unique businesses\n",
    "len(reviews['business_id'].unique())"
   ]
  },
  {
   "cell_type": "code",
   "execution_count": 9,
   "id": "attempted-yugoslavia",
   "metadata": {},
   "outputs": [
    {
     "data": {
      "text/plain": [
       "1    37211\n",
       "0    36067\n",
       "Name: is_open, dtype: int64"
      ]
     },
     "execution_count": 9,
     "metadata": {},
     "output_type": "execute_result"
    }
   ],
   "source": [
    "# count of reviews by open or closed\n",
    "reviews['is_open'].value_counts()"
   ]
  },
  {
   "cell_type": "code",
   "execution_count": 10,
   "id": "designed-louisiana",
   "metadata": {},
   "outputs": [
    {
     "data": {
      "text/html": [
       "<div>\n",
       "<style scoped>\n",
       "    .dataframe tbody tr th:only-of-type {\n",
       "        vertical-align: middle;\n",
       "    }\n",
       "\n",
       "    .dataframe tbody tr th {\n",
       "        vertical-align: top;\n",
       "    }\n",
       "\n",
       "    .dataframe thead th {\n",
       "        text-align: right;\n",
       "    }\n",
       "</style>\n",
       "<table border=\"1\" class=\"dataframe\">\n",
       "  <thead>\n",
       "    <tr style=\"text-align: right;\">\n",
       "      <th></th>\n",
       "      <th>is_open</th>\n",
       "      <th>stars</th>\n",
       "    </tr>\n",
       "  </thead>\n",
       "  <tbody>\n",
       "    <tr>\n",
       "      <th>is_open</th>\n",
       "      <td>1.000000</td>\n",
       "      <td>0.015415</td>\n",
       "    </tr>\n",
       "    <tr>\n",
       "      <th>stars</th>\n",
       "      <td>0.015415</td>\n",
       "      <td>1.000000</td>\n",
       "    </tr>\n",
       "  </tbody>\n",
       "</table>\n",
       "</div>"
      ],
      "text/plain": [
       "          is_open     stars\n",
       "is_open  1.000000  0.015415\n",
       "stars    0.015415  1.000000"
      ]
     },
     "execution_count": 10,
     "metadata": {},
     "output_type": "execute_result"
    }
   ],
   "source": [
    "# Correlation of stars to open or closed\n",
    "reviews[['is_open', 'stars']].corr()"
   ]
  },
  {
   "cell_type": "code",
   "execution_count": 11,
   "id": "otherwise-newman",
   "metadata": {},
   "outputs": [
    {
     "data": {
      "text/html": [
       "<div>\n",
       "<style scoped>\n",
       "    .dataframe tbody tr th:only-of-type {\n",
       "        vertical-align: middle;\n",
       "    }\n",
       "\n",
       "    .dataframe tbody tr th {\n",
       "        vertical-align: top;\n",
       "    }\n",
       "\n",
       "    .dataframe thead th {\n",
       "        text-align: right;\n",
       "    }\n",
       "</style>\n",
       "<table border=\"1\" class=\"dataframe\">\n",
       "  <thead>\n",
       "    <tr style=\"text-align: right;\">\n",
       "      <th></th>\n",
       "      <th>count</th>\n",
       "      <th>mean</th>\n",
       "      <th>std</th>\n",
       "      <th>min</th>\n",
       "      <th>25%</th>\n",
       "      <th>50%</th>\n",
       "      <th>75%</th>\n",
       "      <th>max</th>\n",
       "    </tr>\n",
       "  </thead>\n",
       "  <tbody>\n",
       "    <tr>\n",
       "      <th>stars</th>\n",
       "      <td>36067.0</td>\n",
       "      <td>3.714628</td>\n",
       "      <td>0.579305</td>\n",
       "      <td>2.0</td>\n",
       "      <td>3.5</td>\n",
       "      <td>3.5</td>\n",
       "      <td>4.0</td>\n",
       "      <td>5.0</td>\n",
       "    </tr>\n",
       "  </tbody>\n",
       "</table>\n",
       "</div>"
      ],
      "text/plain": [
       "         count      mean       std  min  25%  50%  75%  max\n",
       "stars  36067.0  3.714628  0.579305  2.0  3.5  3.5  4.0  5.0"
      ]
     },
     "execution_count": 11,
     "metadata": {},
     "output_type": "execute_result"
    }
   ],
   "source": [
    "# Statistics of star ratings for closed\n",
    "closed_reviews[['stars']].describe().T"
   ]
  },
  {
   "cell_type": "code",
   "execution_count": 12,
   "id": "charming-edward",
   "metadata": {},
   "outputs": [
    {
     "data": {
      "text/html": [
       "<div>\n",
       "<style scoped>\n",
       "    .dataframe tbody tr th:only-of-type {\n",
       "        vertical-align: middle;\n",
       "    }\n",
       "\n",
       "    .dataframe tbody tr th {\n",
       "        vertical-align: top;\n",
       "    }\n",
       "\n",
       "    .dataframe thead th {\n",
       "        text-align: right;\n",
       "    }\n",
       "</style>\n",
       "<table border=\"1\" class=\"dataframe\">\n",
       "  <thead>\n",
       "    <tr style=\"text-align: right;\">\n",
       "      <th></th>\n",
       "      <th>count</th>\n",
       "      <th>mean</th>\n",
       "      <th>std</th>\n",
       "      <th>min</th>\n",
       "      <th>25%</th>\n",
       "      <th>50%</th>\n",
       "      <th>75%</th>\n",
       "      <th>max</th>\n",
       "    </tr>\n",
       "  </thead>\n",
       "  <tbody>\n",
       "    <tr>\n",
       "      <th>stars</th>\n",
       "      <td>37211.0</td>\n",
       "      <td>3.733882</td>\n",
       "      <td>0.665168</td>\n",
       "      <td>1.5</td>\n",
       "      <td>3.5</td>\n",
       "      <td>4.0</td>\n",
       "      <td>4.0</td>\n",
       "      <td>5.0</td>\n",
       "    </tr>\n",
       "  </tbody>\n",
       "</table>\n",
       "</div>"
      ],
      "text/plain": [
       "         count      mean       std  min  25%  50%  75%  max\n",
       "stars  37211.0  3.733882  0.665168  1.5  3.5  4.0  4.0  5.0"
      ]
     },
     "execution_count": 12,
     "metadata": {},
     "output_type": "execute_result"
    }
   ],
   "source": [
    "# Statistics of star ratings for open\n",
    "open_reviews[['stars']].describe().T"
   ]
  },
  {
   "cell_type": "code",
   "execution_count": 57,
   "id": "cleared-study",
   "metadata": {},
   "outputs": [
    {
     "data": {
      "image/png": "[encoded data removed]",
      "text/plain": [
       "<Figure size 1152x432 with 2 Axes>"
      ]
     },
     "metadata": {
      "needs_background": "light"
     },
     "output_type": "display_data"
    }
   ],
   "source": [
    "# Plot Stars Distribution\n",
    "fig, ax = plt.subplots(1, 2, figsize=(16,6))\n",
    "open_reviews['stars'].hist(bins=50, ax=ax[0], \n",
    "                              xlabelsize=14, ylabelsize=14)\n",
    "closed_reviews['stars'].hist(bins=50, ax=ax[1],\n",
    "                                 xlabelsize=14, ylabelsize=14)\n",
    "\n",
    "ax[0].set_xlim([1,5])\n",
    "ax[0].set_title('Open', fontsize=18)\n",
    "\n",
    "ax[1].set_xlim([1,5])\n",
    "ax[1].set_title('Closed', fontsize=18)\n",
    "\n",
    "fig.suptitle('Star Rating Distribution', fontsize=24)\n",
    "fig.text(0.5, 0.04, 'Star Rating', \n",
    "         ha='center', fontsize=18)\n",
    "fig.text(0.04, 0.5, 'Count', va='center', \n",
    "         rotation='vertical', fontsize=18);\n",
    "#plt.savefig('../presentation/images/star_rating_dist.png')"
   ]
  },
  {
   "cell_type": "markdown",
   "id": "conservative-significance",
   "metadata": {},
   "source": [
    "#### Results\n",
    "The number of stars is not highly related to whether or not the restaurant is open or closed."
   ]
  },
  {
   "cell_type": "markdown",
   "id": "weekly-attempt",
   "metadata": {},
   "source": [
    "# Character and Word Count Distributions"
   ]
  },
  {
   "cell_type": "markdown",
   "id": "unable-drilling",
   "metadata": {},
   "source": [
    "#### Character"
   ]
  },
  {
   "cell_type": "code",
   "execution_count": 13,
   "id": "supported-cholesterol",
   "metadata": {},
   "outputs": [
    {
     "data": {
      "text/html": [
       "<div>\n",
       "<style scoped>\n",
       "    .dataframe tbody tr th:only-of-type {\n",
       "        vertical-align: middle;\n",
       "    }\n",
       "\n",
       "    .dataframe tbody tr th {\n",
       "        vertical-align: top;\n",
       "    }\n",
       "\n",
       "    .dataframe thead th {\n",
       "        text-align: right;\n",
       "    }\n",
       "</style>\n",
       "<table border=\"1\" class=\"dataframe\">\n",
       "  <thead>\n",
       "    <tr style=\"text-align: right;\">\n",
       "      <th></th>\n",
       "      <th>count</th>\n",
       "      <th>mean</th>\n",
       "      <th>std</th>\n",
       "      <th>min</th>\n",
       "      <th>25%</th>\n",
       "      <th>50%</th>\n",
       "      <th>75%</th>\n",
       "      <th>max</th>\n",
       "    </tr>\n",
       "  </thead>\n",
       "  <tbody>\n",
       "    <tr>\n",
       "      <th>char_count</th>\n",
       "      <td>36067.0</td>\n",
       "      <td>608.89636</td>\n",
       "      <td>578.691028</td>\n",
       "      <td>5.0</td>\n",
       "      <td>230.0</td>\n",
       "      <td>420.0</td>\n",
       "      <td>781.0</td>\n",
       "      <td>4999.0</td>\n",
       "    </tr>\n",
       "  </tbody>\n",
       "</table>\n",
       "</div>"
      ],
      "text/plain": [
       "              count       mean         std  min    25%    50%    75%     max\n",
       "char_count  36067.0  608.89636  578.691028  5.0  230.0  420.0  781.0  4999.0"
      ]
     },
     "execution_count": 13,
     "metadata": {},
     "output_type": "execute_result"
    }
   ],
   "source": [
    "# Closed restaurants review length statistics\n",
    "closed_reviews[['char_count']].describe().T"
   ]
  },
  {
   "cell_type": "code",
   "execution_count": 14,
   "id": "informed-allen",
   "metadata": {},
   "outputs": [
    {
     "data": {
      "text/html": [
       "<div>\n",
       "<style scoped>\n",
       "    .dataframe tbody tr th:only-of-type {\n",
       "        vertical-align: middle;\n",
       "    }\n",
       "\n",
       "    .dataframe tbody tr th {\n",
       "        vertical-align: top;\n",
       "    }\n",
       "\n",
       "    .dataframe thead th {\n",
       "        text-align: right;\n",
       "    }\n",
       "</style>\n",
       "<table border=\"1\" class=\"dataframe\">\n",
       "  <thead>\n",
       "    <tr style=\"text-align: right;\">\n",
       "      <th></th>\n",
       "      <th>count</th>\n",
       "      <th>mean</th>\n",
       "      <th>std</th>\n",
       "      <th>min</th>\n",
       "      <th>25%</th>\n",
       "      <th>50%</th>\n",
       "      <th>75%</th>\n",
       "      <th>max</th>\n",
       "    </tr>\n",
       "  </thead>\n",
       "  <tbody>\n",
       "    <tr>\n",
       "      <th>char_count</th>\n",
       "      <td>37211.0</td>\n",
       "      <td>489.005402</td>\n",
       "      <td>457.449748</td>\n",
       "      <td>5.0</td>\n",
       "      <td>199.0</td>\n",
       "      <td>342.0</td>\n",
       "      <td>615.0</td>\n",
       "      <td>5000.0</td>\n",
       "    </tr>\n",
       "  </tbody>\n",
       "</table>\n",
       "</div>"
      ],
      "text/plain": [
       "              count        mean         std  min    25%    50%    75%     max\n",
       "char_count  37211.0  489.005402  457.449748  5.0  199.0  342.0  615.0  5000.0"
      ]
     },
     "execution_count": 14,
     "metadata": {},
     "output_type": "execute_result"
    }
   ],
   "source": [
    "# Open restaurants review length statistics\n",
    "open_reviews[['char_count']].describe().T"
   ]
  },
  {
   "cell_type": "code",
   "execution_count": 58,
   "id": "minor-source",
   "metadata": {},
   "outputs": [
    {
     "data": {
      "image/png": "[encoded data removed]",
      "text/plain": [
       "<Figure size 1152x432 with 2 Axes>"
      ]
     },
     "metadata": {
      "needs_background": "light"
     },
     "output_type": "display_data"
    }
   ],
   "source": [
    "# Plot character count distributions\n",
    "fig, ax = plt.subplots(1, 2, figsize=(16,6))\n",
    "open_reviews['char_count'].hist(bins=50, ax=ax[0], \n",
    "                              xlabelsize=14, ylabelsize=14)\n",
    "closed_reviews['char_count'].hist(bins=50, ax=ax[1],\n",
    "                                 xlabelsize=14, ylabelsize=14)\n",
    "\n",
    "ax[0].set_ylim([0,8200])\n",
    "ax[0].set_title('Open', fontsize=18)\n",
    "\n",
    "ax[1].set_ylim([0,8200])\n",
    "ax[1].set_title('Closed', fontsize=18)\n",
    "\n",
    "fig.suptitle('Review Character Count Distribution', fontsize=24)\n",
    "fig.text(0.5, 0.04, 'Number of Characters', \n",
    "         ha='center', fontsize=18)\n",
    "fig.text(0.04, 0.5, 'Count', va='center', \n",
    "         rotation='vertical', fontsize=18);\n",
    "#plt.savefig('../presentation/images/char_count_dist.png')"
   ]
  },
  {
   "cell_type": "markdown",
   "id": "engaging-bearing",
   "metadata": {},
   "source": [
    "#### Words"
   ]
  },
  {
   "cell_type": "code",
   "execution_count": 15,
   "id": "bigger-carroll",
   "metadata": {},
   "outputs": [
    {
     "data": {
      "text/html": [
       "<div>\n",
       "<style scoped>\n",
       "    .dataframe tbody tr th:only-of-type {\n",
       "        vertical-align: middle;\n",
       "    }\n",
       "\n",
       "    .dataframe tbody tr th {\n",
       "        vertical-align: top;\n",
       "    }\n",
       "\n",
       "    .dataframe thead th {\n",
       "        text-align: right;\n",
       "    }\n",
       "</style>\n",
       "<table border=\"1\" class=\"dataframe\">\n",
       "  <thead>\n",
       "    <tr style=\"text-align: right;\">\n",
       "      <th></th>\n",
       "      <th>count</th>\n",
       "      <th>mean</th>\n",
       "      <th>std</th>\n",
       "      <th>min</th>\n",
       "      <th>25%</th>\n",
       "      <th>50%</th>\n",
       "      <th>75%</th>\n",
       "      <th>max</th>\n",
       "    </tr>\n",
       "  </thead>\n",
       "  <tbody>\n",
       "    <tr>\n",
       "      <th>word_count</th>\n",
       "      <td>36067.0</td>\n",
       "      <td>112.685142</td>\n",
       "      <td>106.670853</td>\n",
       "      <td>1.0</td>\n",
       "      <td>42.0</td>\n",
       "      <td>78.0</td>\n",
       "      <td>145.5</td>\n",
       "      <td>965.0</td>\n",
       "    </tr>\n",
       "  </tbody>\n",
       "</table>\n",
       "</div>"
      ],
      "text/plain": [
       "              count        mean         std  min   25%   50%    75%    max\n",
       "word_count  36067.0  112.685142  106.670853  1.0  42.0  78.0  145.5  965.0"
      ]
     },
     "execution_count": 15,
     "metadata": {},
     "output_type": "execute_result"
    }
   ],
   "source": [
    "# Closed restaurants review length statistics\n",
    "closed_reviews[['word_count']].describe().T"
   ]
  },
  {
   "cell_type": "code",
   "execution_count": 16,
   "id": "eastern-aquatic",
   "metadata": {},
   "outputs": [
    {
     "data": {
      "text/html": [
       "<div>\n",
       "<style scoped>\n",
       "    .dataframe tbody tr th:only-of-type {\n",
       "        vertical-align: middle;\n",
       "    }\n",
       "\n",
       "    .dataframe tbody tr th {\n",
       "        vertical-align: top;\n",
       "    }\n",
       "\n",
       "    .dataframe thead th {\n",
       "        text-align: right;\n",
       "    }\n",
       "</style>\n",
       "<table border=\"1\" class=\"dataframe\">\n",
       "  <thead>\n",
       "    <tr style=\"text-align: right;\">\n",
       "      <th></th>\n",
       "      <th>count</th>\n",
       "      <th>mean</th>\n",
       "      <th>std</th>\n",
       "      <th>min</th>\n",
       "      <th>25%</th>\n",
       "      <th>50%</th>\n",
       "      <th>75%</th>\n",
       "      <th>max</th>\n",
       "    </tr>\n",
       "  </thead>\n",
       "  <tbody>\n",
       "    <tr>\n",
       "      <th>word_count</th>\n",
       "      <td>37211.0</td>\n",
       "      <td>91.071189</td>\n",
       "      <td>85.492903</td>\n",
       "      <td>1.0</td>\n",
       "      <td>36.0</td>\n",
       "      <td>64.0</td>\n",
       "      <td>115.0</td>\n",
       "      <td>972.0</td>\n",
       "    </tr>\n",
       "  </tbody>\n",
       "</table>\n",
       "</div>"
      ],
      "text/plain": [
       "              count       mean        std  min   25%   50%    75%    max\n",
       "word_count  37211.0  91.071189  85.492903  1.0  36.0  64.0  115.0  972.0"
      ]
     },
     "execution_count": 16,
     "metadata": {},
     "output_type": "execute_result"
    }
   ],
   "source": [
    "# Open restaurants review length statistics\n",
    "open_reviews[['word_count']].describe().T"
   ]
  },
  {
   "cell_type": "code",
   "execution_count": 19,
   "id": "median-cowboy",
   "metadata": {},
   "outputs": [
    {
     "data": {
      "image/png": "[encoded data removed]",
      "text/plain": [
       "<Figure size 1152x432 with 2 Axes>"
      ]
     },
     "metadata": {
      "needs_background": "light"
     },
     "output_type": "display_data"
    }
   ],
   "source": [
    "# Plot character count distributions\n",
    "fig, ax = plt.subplots(1, 2, figsize=(16,6))\n",
    "open_reviews['word_count'].hist(bins=50, ax=ax[0], \n",
    "                              xlabelsize=14, ylabelsize=14)\n",
    "closed_reviews['word_count'].hist(bins=50, ax=ax[1],\n",
    "                                 xlabelsize=14, ylabelsize=14)\n",
    "\n",
    "ax[0].set_ylim([0,8200])\n",
    "ax[0].set_title('Open', fontsize=18)\n",
    "\n",
    "ax[1].set_ylim([0,8200])\n",
    "ax[1].set_title('Closed', fontsize=18)\n",
    "\n",
    "fig.suptitle('Review Word Count Distribution', fontsize=24)\n",
    "fig.text(0.5, 0.04, 'Number of Words', \n",
    "         ha='center', fontsize=18)\n",
    "fig.text(0.04, 0.5, 'Count', va='center', \n",
    "         rotation='vertical', fontsize=18);\n",
    "#plt.savefig('../presentation/images/word_count_dist.png')"
   ]
  },
  {
   "cell_type": "markdown",
   "id": "nasty-jaguar",
   "metadata": {},
   "source": [
    "# Most Frequent Words"
   ]
  },
  {
   "cell_type": "code",
   "execution_count": 5,
   "id": "closing-employee",
   "metadata": {},
   "outputs": [],
   "source": [
    "# using isalnum method to remove special characters from\n",
    "# https://stackoverflow.com/questions/5843518/remove-all-special-characters-punctuation-and-spaces-from-string\n",
    "\n",
    "def my_preprocessor(text):\n",
    "    \"\"\"Process text for use with vectorizer.\n",
    "    \n",
    "    Takes in a string and modifies it for use with count or tf-idf\n",
    "    vectorizer.  It will set all characters to lowercase, remove and urls,\n",
    "    remove the apostrophe from contractions, and replace non-alphanumeric\n",
    "    characters with a space.\n",
    "    \n",
    "    Args:\n",
    "        text (string): string to be processed\n",
    "    \n",
    "    Returns:\n",
    "        string: processed text string\n",
    "    \"\"\"\n",
    "    text = text.lower()\n",
    "    text = re.sub('http\\S+|www.\\S+', '', text)\n",
    "    text = text.replace(\"'\", '')\n",
    "    text = ''.join(w if w.isalnum() or w == ' ' else ' ' for w in text)\n",
    "    \n",
    "    return text"
   ]
  },
  {
   "cell_type": "code",
   "execution_count": 6,
   "id": "fitting-person",
   "metadata": {},
   "outputs": [],
   "source": [
    "def my_lemmatizer(text):\n",
    "    wnet = WordNetLemmatizer()\n",
    "    return [wnet.lemmatize(w) for w in word_tokenize(text)]"
   ]
  },
  {
   "cell_type": "code",
   "execution_count": 7,
   "id": "unlikely-castle",
   "metadata": {},
   "outputs": [],
   "source": [
    "# Download stopwords from nltk\n",
    "# Uncomment line below and run if necessary\n",
    "#nltk.download('stopwords')"
   ]
  },
  {
   "cell_type": "code",
   "execution_count": 8,
   "id": "gothic-antenna",
   "metadata": {},
   "outputs": [],
   "source": [
    "# apply same pre-processing as reviews to stopwords\n",
    "# inspiration from https://stackoverflow.com/questions/50155188/lemmatization-on-countvectorizer-doesnt-remove-stopwords\n",
    "wnet = WordNetLemmatizer()\n",
    "lem_stopwords = [wnet.lemmatize(w.replace(\"'\",'')) for w in stopwords.words('english')]"
   ]
  },
  {
   "cell_type": "code",
   "execution_count": 17,
   "id": "imposed-bottle",
   "metadata": {},
   "outputs": [],
   "source": [
    "cvect = CountVectorizer(\n",
    "    preprocessor=my_preprocessor,\n",
    "    tokenizer=my_lemmatizer,\n",
    "    stop_words=lem_stopwords\n",
    ")"
   ]
  },
  {
   "cell_type": "code",
   "execution_count": 18,
   "id": "responsible-booth",
   "metadata": {},
   "outputs": [],
   "source": [
    "# Vectorize open reviews and create dataframe with words and counts\n",
    "open_vect = cvect.fit_transform(open_reviews['text'])\n",
    "open_dtm = pd.DataFrame(open_vect.toarray(), columns = cvect.get_feature_names())\n",
    "\n",
    "# Vectorize closed reviews and create dataframe with words and counts\n",
    "closed_vect = cvect.fit_transform(closed_reviews['text'])\n",
    "closed_dtm = pd.DataFrame(closed_vect.toarray(), columns = cvect.get_feature_names())"
   ]
  },
  {
   "cell_type": "code",
   "execution_count": 22,
   "id": "careful-greenhouse",
   "metadata": {},
   "outputs": [
    {
     "data": {
      "image/png": "[encoded data removed]",
      "text/plain": [
       "<Figure size 1152x576 with 2 Axes>"
      ]
     },
     "metadata": {
      "needs_background": "light"
     },
     "output_type": "display_data"
    }
   ],
   "source": [
    "#Plot the Most Frequently Occurring Words\n",
    "\n",
    "fig, ax = plt.subplots(1, 2, figsize=(16,8))\n",
    "open_dtm.sum().sort_values(ascending=False).head(20).plot(kind='barh', ax=ax[0], fontsize=14)\n",
    "closed_dtm.sum().sort_values(ascending=False).head(20).plot(kind='barh', ax=ax[1], fontsize=14)\n",
    "\n",
    "ax[0].set_title('Open', fontsize=18)\n",
    "ax[1].set_title('Closed', fontsize=18)\n",
    "\n",
    "fig.suptitle('Top 20 Words', fontsize=24)\n",
    "fig.text(0.5, 0.04, 'Number of Occurances', \n",
    "         ha='center', fontsize=18);\n",
    "#plt.savefig('../presentation/images/top_20_words.png')"
   ]
  },
  {
   "cell_type": "markdown",
   "id": "precious-forth",
   "metadata": {},
   "source": [
    "#### Bigrams"
   ]
  },
  {
   "cell_type": "code",
   "execution_count": 9,
   "id": "thousand-homeless",
   "metadata": {},
   "outputs": [],
   "source": [
    "cvect2 = CountVectorizer(\n",
    "    ngram_range=(2,2),\n",
    "    preprocessor=my_preprocessor,\n",
    "    tokenizer=my_lemmatizer,\n",
    "    stop_words=lem_stopwords,\n",
    "    max_features=500\n",
    ")"
   ]
  },
  {
   "cell_type": "code",
   "execution_count": 10,
   "id": "offensive-electric",
   "metadata": {},
   "outputs": [],
   "source": [
    "# Vectorize open reviews and create dataframe with words and counts\n",
    "open_vect2 = cvect2.fit_transform(open_reviews['text'])\n",
    "open_dtm2 = pd.DataFrame(open_vect2.toarray(), columns = cvect2.get_feature_names())\n",
    "\n",
    "# Vectorize closed reviews and create dataframe with words and counts\n",
    "closed_vect2 = cvect2.fit_transform(closed_reviews['text'])\n",
    "closed_dtm2 = pd.DataFrame(closed_vect2.toarray(), columns = cvect2.get_feature_names())"
   ]
  },
  {
   "cell_type": "code",
   "execution_count": 11,
   "id": "understanding-freeze",
   "metadata": {},
   "outputs": [
    {
     "data": {
      "image/png": "[encoded data removed]",
      "text/plain": [
       "<Figure size 1152x576 with 2 Axes>"
      ]
     },
     "metadata": {
      "needs_background": "light"
     },
     "output_type": "display_data"
    }
   ],
   "source": [
    "#Plot the Most Frequently Occurring Words\n",
    "\n",
    "fig, ax = plt.subplots(1, 2, figsize=(16,8))\n",
    "open_dtm2.sum().sort_values(ascending=False).head(20).plot(kind='barh', ax=ax[0], fontsize=14)\n",
    "closed_dtm2.sum().sort_values(ascending=False).head(20).plot(kind='barh', ax=ax[1], fontsize=14)\n",
    "\n",
    "ax[0].set_title('Open', fontsize=18)\n",
    "ax[1].set_title('Closed', fontsize=18)\n",
    "\n",
    "fig.suptitle('Top 10 Words', fontsize=24)\n",
    "fig.text(0.5, 0.04, 'Number of Occurances', \n",
    "         ha='center', fontsize=18);\n",
    "#plt.savefig('../presentation/images/top_20_bigrams.png')"
   ]
  },
  {
   "cell_type": "markdown",
   "id": "stuffed-lindsay",
   "metadata": {},
   "source": [
    "#### Trigrams"
   ]
  },
  {
   "cell_type": "code",
   "execution_count": 13,
   "id": "fewer-county",
   "metadata": {},
   "outputs": [],
   "source": [
    "cvect3 = CountVectorizer(\n",
    "    ngram_range=(3,3),\n",
    "    preprocessor=my_preprocessor,\n",
    "    tokenizer=my_lemmatizer,\n",
    "    stop_words=lem_stopwords,\n",
    "    max_features=500\n",
    ")"
   ]
  },
  {
   "cell_type": "code",
   "execution_count": 14,
   "id": "uniform-access",
   "metadata": {},
   "outputs": [],
   "source": [
    "# Vectorize open reviews and create dataframe with words and counts\n",
    "open_vect3 = cvect3.fit_transform(open_reviews['text'])\n",
    "open_dtm3 = pd.DataFrame(open_vect3.toarray(), columns = cvect3.get_feature_names())\n",
    "\n",
    "# Vectorize closed reviews and create dataframe with words and counts\n",
    "closed_vect3 = cvect3.fit_transform(closed_reviews['text'])\n",
    "closed_dtm3 = pd.DataFrame(closed_vect3.toarray(), columns = cvect3.get_feature_names())"
   ]
  },
  {
   "cell_type": "code",
   "execution_count": 18,
   "id": "inappropriate-hacker",
   "metadata": {},
   "outputs": [
    {
     "data": {
      "image/png": "[encoded data removed]",
      "text/plain": [
       "<Figure size 2160x576 with 2 Axes>"
      ]
     },
     "metadata": {
      "needs_background": "light"
     },
     "output_type": "display_data"
    }
   ],
   "source": [
    "#Plot the Most Frequently Occurring Words\n",
    "\n",
    "fig, ax = plt.subplots(1, 2, figsize=(30,8))\n",
    "open_dtm3.sum().sort_values(ascending=False).head(20).plot(kind='barh', ax=ax[0], fontsize=14)\n",
    "closed_dtm3.sum().sort_values(ascending=False).head(20).plot(kind='barh', ax=ax[1], fontsize=14)\n",
    "\n",
    "ax[0].set_title('Open', fontsize=18)\n",
    "ax[1].set_title('Closed', fontsize=18)\n",
    "\n",
    "fig.suptitle('Top 10 Words', fontsize=24)\n",
    "fig.text(0.5, 0.04, 'Number of Occurances', \n",
    "         ha='center', fontsize=18);\n",
    "#plt.savefig('../presentation/images/top_10_words.png')"
   ]
  },
  {
   "cell_type": "markdown",
   "id": "compliant-disability",
   "metadata": {},
   "source": [
    "#### Results\n",
    "The most frequent words are very similar betweenopen and closed restaurants.  Further analysis should be done on other ngrams."
   ]
  },
  {
   "cell_type": "markdown",
   "id": "weird-february",
   "metadata": {},
   "source": [
    "# Sentiment Analysis"
   ]
  },
  {
   "cell_type": "code",
   "execution_count": 37,
   "id": "handed-spectrum",
   "metadata": {},
   "outputs": [],
   "source": [
    "sent_cols = ['vader_neg', 'vader_neu', 'vader_pos', 'vader_comp']"
   ]
  },
  {
   "cell_type": "code",
   "execution_count": 38,
   "id": "agricultural-happening",
   "metadata": {},
   "outputs": [
    {
     "data": {
      "text/html": [
       "<div>\n",
       "<style scoped>\n",
       "    .dataframe tbody tr th:only-of-type {\n",
       "        vertical-align: middle;\n",
       "    }\n",
       "\n",
       "    .dataframe tbody tr th {\n",
       "        vertical-align: top;\n",
       "    }\n",
       "\n",
       "    .dataframe thead th {\n",
       "        text-align: right;\n",
       "    }\n",
       "</style>\n",
       "<table border=\"1\" class=\"dataframe\">\n",
       "  <thead>\n",
       "    <tr style=\"text-align: right;\">\n",
       "      <th></th>\n",
       "      <th>vader_neg</th>\n",
       "      <th>vader_neu</th>\n",
       "      <th>vader_pos</th>\n",
       "      <th>vader_comp</th>\n",
       "      <th>stars</th>\n",
       "    </tr>\n",
       "  </thead>\n",
       "  <tbody>\n",
       "    <tr>\n",
       "      <th>vader_neg</th>\n",
       "      <td>1.000000</td>\n",
       "      <td>0.023895</td>\n",
       "      <td>-0.472359</td>\n",
       "      <td>-0.734676</td>\n",
       "      <td>-0.248377</td>\n",
       "    </tr>\n",
       "    <tr>\n",
       "      <th>vader_neu</th>\n",
       "      <td>0.023895</td>\n",
       "      <td>1.000000</td>\n",
       "      <td>-0.892436</td>\n",
       "      <td>-0.292571</td>\n",
       "      <td>-0.177819</td>\n",
       "    </tr>\n",
       "    <tr>\n",
       "      <th>vader_pos</th>\n",
       "      <td>-0.472359</td>\n",
       "      <td>-0.892436</td>\n",
       "      <td>1.000000</td>\n",
       "      <td>0.589505</td>\n",
       "      <td>0.268872</td>\n",
       "    </tr>\n",
       "    <tr>\n",
       "      <th>vader_comp</th>\n",
       "      <td>-0.734676</td>\n",
       "      <td>-0.292571</td>\n",
       "      <td>0.589505</td>\n",
       "      <td>1.000000</td>\n",
       "      <td>0.285103</td>\n",
       "    </tr>\n",
       "    <tr>\n",
       "      <th>stars</th>\n",
       "      <td>-0.248377</td>\n",
       "      <td>-0.177819</td>\n",
       "      <td>0.268872</td>\n",
       "      <td>0.285103</td>\n",
       "      <td>1.000000</td>\n",
       "    </tr>\n",
       "  </tbody>\n",
       "</table>\n",
       "</div>"
      ],
      "text/plain": [
       "            vader_neg  vader_neu  vader_pos  vader_comp     stars\n",
       "vader_neg    1.000000   0.023895  -0.472359   -0.734676 -0.248377\n",
       "vader_neu    0.023895   1.000000  -0.892436   -0.292571 -0.177819\n",
       "vader_pos   -0.472359  -0.892436   1.000000    0.589505  0.268872\n",
       "vader_comp  -0.734676  -0.292571   0.589505    1.000000  0.285103\n",
       "stars       -0.248377  -0.177819   0.268872    0.285103  1.000000"
      ]
     },
     "execution_count": 38,
     "metadata": {},
     "output_type": "execute_result"
    }
   ],
   "source": [
    "# Correlation of Vader Sentiment to open / closed and star rating\n",
    "corr_cols = sent_cols.copy()\n",
    "corr_cols.append('stars')\n",
    "reviews[corr_cols].corr()"
   ]
  },
  {
   "cell_type": "code",
   "execution_count": 43,
   "id": "indonesian-mauritius",
   "metadata": {},
   "outputs": [
    {
     "data": {
      "text/plain": [
       "41994    Dirty floors, Dirty tables, Terrible customer ...\n",
       "21390    disgusting kitchen area, rude service and the ...\n",
       "4202     Rude and Obnoxious Owner/Server, Very High pri...\n",
       "4874     Avoid at all costs. Horrible service and horri...\n",
       "11807    Bad customer service and very bad pho not reco...\n",
       "35745    Food were too salty. The waitress was rude unp...\n",
       "68807    Terrible. Don't go even if you're forced to.Wa...\n",
       "5143     Worst place ever.    Food sucks!!! The bar is ...\n",
       "52667                             Nıce margarita bad food.\n",
       "11184    Worst experience they lie about changing recip...\n",
       "Name: text, dtype: object"
      ]
     },
     "execution_count": 43,
     "metadata": {},
     "output_type": "execute_result"
    }
   ],
   "source": [
    "# 10 reviews with most negative sentiment\n",
    "reviews.sort_values('vader_neg', ascending=False)['text'][:10]"
   ]
  },
  {
   "cell_type": "code",
   "execution_count": 47,
   "id": "arctic-aside",
   "metadata": {},
   "outputs": [
    {
     "data": {
      "text/plain": [
       "23153                                                Yummy\n",
       "35928                                     amazing meal!!!!\n",
       "38254                                     awesome falafel!\n",
       "68042    Friendly attentive service, peaceful, enjoyabl...\n",
       "44033                           Hand down Best Falafels!!!\n",
       "59457    Great tacos, great atmosphere, awesome taco's....\n",
       "55133    Great service, great food, good burgers, great...\n",
       "63315               Sooo good. Love tigers blood. Winning!\n",
       "65428         Pretty solid chicken.  Nice clean place too!\n",
       "65120    Super fabulous food!!!  Nice atmosphere and gr...\n",
       "Name: text, dtype: object"
      ]
     },
     "execution_count": 47,
     "metadata": {},
     "output_type": "execute_result"
    }
   ],
   "source": [
    "# 10 reviews with most positive sentiment\n",
    "reviews.sort_values('vader_pos', ascending=False)['text'][:10]"
   ]
  },
  {
   "cell_type": "code",
   "execution_count": 39,
   "id": "tribal-exhibit",
   "metadata": {},
   "outputs": [
    {
     "data": {
      "text/html": [
       "<div>\n",
       "<style scoped>\n",
       "    .dataframe tbody tr th:only-of-type {\n",
       "        vertical-align: middle;\n",
       "    }\n",
       "\n",
       "    .dataframe tbody tr th {\n",
       "        vertical-align: top;\n",
       "    }\n",
       "\n",
       "    .dataframe thead th {\n",
       "        text-align: right;\n",
       "    }\n",
       "</style>\n",
       "<table border=\"1\" class=\"dataframe\">\n",
       "  <thead>\n",
       "    <tr style=\"text-align: right;\">\n",
       "      <th></th>\n",
       "      <th>vader_neg</th>\n",
       "      <th>vader_neu</th>\n",
       "      <th>vader_pos</th>\n",
       "      <th>vader_comp</th>\n",
       "    </tr>\n",
       "  </thead>\n",
       "  <tbody>\n",
       "    <tr>\n",
       "      <th>count</th>\n",
       "      <td>37211.000000</td>\n",
       "      <td>37211.000000</td>\n",
       "      <td>37211.000000</td>\n",
       "      <td>37211.000000</td>\n",
       "    </tr>\n",
       "    <tr>\n",
       "      <th>mean</th>\n",
       "      <td>0.043297</td>\n",
       "      <td>0.751118</td>\n",
       "      <td>0.205585</td>\n",
       "      <td>0.618204</td>\n",
       "    </tr>\n",
       "    <tr>\n",
       "      <th>std</th>\n",
       "      <td>0.057498</td>\n",
       "      <td>0.110832</td>\n",
       "      <td>0.126943</td>\n",
       "      <td>0.573986</td>\n",
       "    </tr>\n",
       "    <tr>\n",
       "      <th>min</th>\n",
       "      <td>0.000000</td>\n",
       "      <td>0.000000</td>\n",
       "      <td>0.000000</td>\n",
       "      <td>-0.998000</td>\n",
       "    </tr>\n",
       "    <tr>\n",
       "      <th>25%</th>\n",
       "      <td>0.000000</td>\n",
       "      <td>0.687000</td>\n",
       "      <td>0.110000</td>\n",
       "      <td>0.592700</td>\n",
       "    </tr>\n",
       "    <tr>\n",
       "      <th>50%</th>\n",
       "      <td>0.024000</td>\n",
       "      <td>0.767000</td>\n",
       "      <td>0.189000</td>\n",
       "      <td>0.906900</td>\n",
       "    </tr>\n",
       "    <tr>\n",
       "      <th>75%</th>\n",
       "      <td>0.066000</td>\n",
       "      <td>0.829000</td>\n",
       "      <td>0.284000</td>\n",
       "      <td>0.966400</td>\n",
       "    </tr>\n",
       "    <tr>\n",
       "      <th>max</th>\n",
       "      <td>0.605000</td>\n",
       "      <td>1.000000</td>\n",
       "      <td>1.000000</td>\n",
       "      <td>0.999800</td>\n",
       "    </tr>\n",
       "  </tbody>\n",
       "</table>\n",
       "</div>"
      ],
      "text/plain": [
       "          vader_neg     vader_neu     vader_pos    vader_comp\n",
       "count  37211.000000  37211.000000  37211.000000  37211.000000\n",
       "mean       0.043297      0.751118      0.205585      0.618204\n",
       "std        0.057498      0.110832      0.126943      0.573986\n",
       "min        0.000000      0.000000      0.000000     -0.998000\n",
       "25%        0.000000      0.687000      0.110000      0.592700\n",
       "50%        0.024000      0.767000      0.189000      0.906900\n",
       "75%        0.066000      0.829000      0.284000      0.966400\n",
       "max        0.605000      1.000000      1.000000      0.999800"
      ]
     },
     "execution_count": 39,
     "metadata": {},
     "output_type": "execute_result"
    }
   ],
   "source": [
    "open_reviews[sent_cols].describe()"
   ]
  },
  {
   "cell_type": "code",
   "execution_count": 41,
   "id": "civil-twins",
   "metadata": {},
   "outputs": [
    {
     "data": {
      "text/html": [
       "<div>\n",
       "<style scoped>\n",
       "    .dataframe tbody tr th:only-of-type {\n",
       "        vertical-align: middle;\n",
       "    }\n",
       "\n",
       "    .dataframe tbody tr th {\n",
       "        vertical-align: top;\n",
       "    }\n",
       "\n",
       "    .dataframe thead th {\n",
       "        text-align: right;\n",
       "    }\n",
       "</style>\n",
       "<table border=\"1\" class=\"dataframe\">\n",
       "  <thead>\n",
       "    <tr style=\"text-align: right;\">\n",
       "      <th></th>\n",
       "      <th>vader_neg</th>\n",
       "      <th>vader_neu</th>\n",
       "      <th>vader_pos</th>\n",
       "      <th>vader_comp</th>\n",
       "    </tr>\n",
       "  </thead>\n",
       "  <tbody>\n",
       "    <tr>\n",
       "      <th>count</th>\n",
       "      <td>36067.000000</td>\n",
       "      <td>36067.000000</td>\n",
       "      <td>36067.000000</td>\n",
       "      <td>36067.000000</td>\n",
       "    </tr>\n",
       "    <tr>\n",
       "      <th>mean</th>\n",
       "      <td>0.041632</td>\n",
       "      <td>0.755046</td>\n",
       "      <td>0.203323</td>\n",
       "      <td>0.678071</td>\n",
       "    </tr>\n",
       "    <tr>\n",
       "      <th>std</th>\n",
       "      <td>0.053370</td>\n",
       "      <td>0.105888</td>\n",
       "      <td>0.118789</td>\n",
       "      <td>0.533779</td>\n",
       "    </tr>\n",
       "    <tr>\n",
       "      <th>min</th>\n",
       "      <td>0.000000</td>\n",
       "      <td>0.168000</td>\n",
       "      <td>0.000000</td>\n",
       "      <td>-0.998600</td>\n",
       "    </tr>\n",
       "    <tr>\n",
       "      <th>25%</th>\n",
       "      <td>0.000000</td>\n",
       "      <td>0.697000</td>\n",
       "      <td>0.118000</td>\n",
       "      <td>0.716100</td>\n",
       "    </tr>\n",
       "    <tr>\n",
       "      <th>50%</th>\n",
       "      <td>0.026000</td>\n",
       "      <td>0.771000</td>\n",
       "      <td>0.187000</td>\n",
       "      <td>0.928700</td>\n",
       "    </tr>\n",
       "    <tr>\n",
       "      <th>75%</th>\n",
       "      <td>0.061000</td>\n",
       "      <td>0.828000</td>\n",
       "      <td>0.271000</td>\n",
       "      <td>0.975400</td>\n",
       "    </tr>\n",
       "    <tr>\n",
       "      <th>max</th>\n",
       "      <td>0.628000</td>\n",
       "      <td>1.000000</td>\n",
       "      <td>0.832000</td>\n",
       "      <td>0.999800</td>\n",
       "    </tr>\n",
       "  </tbody>\n",
       "</table>\n",
       "</div>"
      ],
      "text/plain": [
       "          vader_neg     vader_neu     vader_pos    vader_comp\n",
       "count  36067.000000  36067.000000  36067.000000  36067.000000\n",
       "mean       0.041632      0.755046      0.203323      0.678071\n",
       "std        0.053370      0.105888      0.118789      0.533779\n",
       "min        0.000000      0.168000      0.000000     -0.998600\n",
       "25%        0.000000      0.697000      0.118000      0.716100\n",
       "50%        0.026000      0.771000      0.187000      0.928700\n",
       "75%        0.061000      0.828000      0.271000      0.975400\n",
       "max        0.628000      1.000000      0.832000      0.999800"
      ]
     },
     "execution_count": 41,
     "metadata": {},
     "output_type": "execute_result"
    }
   ],
   "source": [
    "closed_reviews[sent_cols].describe()"
   ]
  },
  {
   "cell_type": "markdown",
   "id": "thrown-machinery",
   "metadata": {},
   "source": [
    "#### Results\n",
    "Although the vader sentiment seems to have done a pretty good job detecting the most positive and negative reviews, it does not not seem to be highly correltated to whether or not the restaurant is open.  It is, however, related to the star rating of the restaurant."
   ]
  },
  {
   "cell_type": "code",
   "execution_count": 49,
   "id": "another-belgium",
   "metadata": {},
   "outputs": [
    {
     "data": {
      "text/html": [
       "<div>\n",
       "<style scoped>\n",
       "    .dataframe tbody tr th:only-of-type {\n",
       "        vertical-align: middle;\n",
       "    }\n",
       "\n",
       "    .dataframe tbody tr th {\n",
       "        vertical-align: top;\n",
       "    }\n",
       "\n",
       "    .dataframe thead th {\n",
       "        text-align: right;\n",
       "    }\n",
       "</style>\n",
       "<table border=\"1\" class=\"dataframe\">\n",
       "  <thead>\n",
       "    <tr style=\"text-align: right;\">\n",
       "      <th></th>\n",
       "      <th>business_id</th>\n",
       "      <th>name</th>\n",
       "      <th>address</th>\n",
       "      <th>city</th>\n",
       "      <th>state</th>\n",
       "      <th>postal_code</th>\n",
       "      <th>latitude</th>\n",
       "      <th>longitude</th>\n",
       "      <th>stars</th>\n",
       "      <th>review_count</th>\n",
       "      <th>...</th>\n",
       "      <th>user_id</th>\n",
       "      <th>review_stars</th>\n",
       "      <th>text</th>\n",
       "      <th>date</th>\n",
       "      <th>char_count</th>\n",
       "      <th>word_count</th>\n",
       "      <th>vader_neg</th>\n",
       "      <th>vader_neu</th>\n",
       "      <th>vader_pos</th>\n",
       "      <th>vader_comp</th>\n",
       "    </tr>\n",
       "  </thead>\n",
       "  <tbody>\n",
       "    <tr>\n",
       "      <th>2431</th>\n",
       "      <td>viHcW-LLmOxBMHFm0jxPvQ</td>\n",
       "      <td>Grand Cafe</td>\n",
       "      <td>2411 W Sahara Ave</td>\n",
       "      <td>Las Vegas</td>\n",
       "      <td>NV</td>\n",
       "      <td>89102</td>\n",
       "      <td>36.142946</td>\n",
       "      <td>-115.174936</td>\n",
       "      <td>3.0</td>\n",
       "      <td>111</td>\n",
       "      <td>...</td>\n",
       "      <td>L8P5OWO1Jh4B2HLa1Fnbng</td>\n",
       "      <td>3.0</td>\n",
       "      <td>Though we have been to Palace Station countles...</td>\n",
       "      <td>2015-11-06 09:10:18</td>\n",
       "      <td>495</td>\n",
       "      <td>86</td>\n",
       "      <td>0.022</td>\n",
       "      <td>0.944</td>\n",
       "      <td>0.034</td>\n",
       "      <td>0.2589</td>\n",
       "    </tr>\n",
       "    <tr>\n",
       "      <th>2432</th>\n",
       "      <td>viHcW-LLmOxBMHFm0jxPvQ</td>\n",
       "      <td>Grand Cafe</td>\n",
       "      <td>2411 W Sahara Ave</td>\n",
       "      <td>Las Vegas</td>\n",
       "      <td>NV</td>\n",
       "      <td>89102</td>\n",
       "      <td>36.142946</td>\n",
       "      <td>-115.174936</td>\n",
       "      <td>3.0</td>\n",
       "      <td>111</td>\n",
       "      <td>...</td>\n",
       "      <td>2_8FRNMYopk_gQmPhq-vrw</td>\n",
       "      <td>3.0</td>\n",
       "      <td>Spent sometimes in this remodeled casino, drop...</td>\n",
       "      <td>2018-08-24 03:24:57</td>\n",
       "      <td>335</td>\n",
       "      <td>57</td>\n",
       "      <td>0.000</td>\n",
       "      <td>0.884</td>\n",
       "      <td>0.116</td>\n",
       "      <td>0.7269</td>\n",
       "    </tr>\n",
       "    <tr>\n",
       "      <th>2433</th>\n",
       "      <td>viHcW-LLmOxBMHFm0jxPvQ</td>\n",
       "      <td>Grand Cafe</td>\n",
       "      <td>2411 W Sahara Ave</td>\n",
       "      <td>Las Vegas</td>\n",
       "      <td>NV</td>\n",
       "      <td>89102</td>\n",
       "      <td>36.142946</td>\n",
       "      <td>-115.174936</td>\n",
       "      <td>3.0</td>\n",
       "      <td>111</td>\n",
       "      <td>...</td>\n",
       "      <td>jn6UGXNFPzKg-xNb5KVY0w</td>\n",
       "      <td>2.0</td>\n",
       "      <td>The food is 5 stars!! But the one waitress I h...</td>\n",
       "      <td>2016-01-04 08:46:28</td>\n",
       "      <td>1092</td>\n",
       "      <td>228</td>\n",
       "      <td>0.125</td>\n",
       "      <td>0.788</td>\n",
       "      <td>0.088</td>\n",
       "      <td>-0.9198</td>\n",
       "    </tr>\n",
       "    <tr>\n",
       "      <th>2434</th>\n",
       "      <td>viHcW-LLmOxBMHFm0jxPvQ</td>\n",
       "      <td>Grand Cafe</td>\n",
       "      <td>2411 W Sahara Ave</td>\n",
       "      <td>Las Vegas</td>\n",
       "      <td>NV</td>\n",
       "      <td>89102</td>\n",
       "      <td>36.142946</td>\n",
       "      <td>-115.174936</td>\n",
       "      <td>3.0</td>\n",
       "      <td>111</td>\n",
       "      <td>...</td>\n",
       "      <td>skmMotDjzynS0j4LxyFPzA</td>\n",
       "      <td>1.0</td>\n",
       "      <td>Horrible service by Tiffany and Wayne. Literal...</td>\n",
       "      <td>2018-05-29 09:32:35</td>\n",
       "      <td>845</td>\n",
       "      <td>147</td>\n",
       "      <td>0.126</td>\n",
       "      <td>0.832</td>\n",
       "      <td>0.042</td>\n",
       "      <td>-0.9129</td>\n",
       "    </tr>\n",
       "    <tr>\n",
       "      <th>2435</th>\n",
       "      <td>viHcW-LLmOxBMHFm0jxPvQ</td>\n",
       "      <td>Grand Cafe</td>\n",
       "      <td>2411 W Sahara Ave</td>\n",
       "      <td>Las Vegas</td>\n",
       "      <td>NV</td>\n",
       "      <td>89102</td>\n",
       "      <td>36.142946</td>\n",
       "      <td>-115.174936</td>\n",
       "      <td>3.0</td>\n",
       "      <td>111</td>\n",
       "      <td>...</td>\n",
       "      <td>cWAkb8yR3T-gzITk-fPlbQ</td>\n",
       "      <td>1.0</td>\n",
       "      <td>Kandeli didn't really like the fact we were ea...</td>\n",
       "      <td>2018-07-26 11:08:16</td>\n",
       "      <td>445</td>\n",
       "      <td>84</td>\n",
       "      <td>0.034</td>\n",
       "      <td>0.905</td>\n",
       "      <td>0.061</td>\n",
       "      <td>0.5222</td>\n",
       "    </tr>\n",
       "    <tr>\n",
       "      <th>...</th>\n",
       "      <td>...</td>\n",
       "      <td>...</td>\n",
       "      <td>...</td>\n",
       "      <td>...</td>\n",
       "      <td>...</td>\n",
       "      <td>...</td>\n",
       "      <td>...</td>\n",
       "      <td>...</td>\n",
       "      <td>...</td>\n",
       "      <td>...</td>\n",
       "      <td>...</td>\n",
       "      <td>...</td>\n",
       "      <td>...</td>\n",
       "      <td>...</td>\n",
       "      <td>...</td>\n",
       "      <td>...</td>\n",
       "      <td>...</td>\n",
       "      <td>...</td>\n",
       "      <td>...</td>\n",
       "      <td>...</td>\n",
       "      <td>...</td>\n",
       "    </tr>\n",
       "    <tr>\n",
       "      <th>73273</th>\n",
       "      <td>1qTx9z8RMz7RIYKAfnpZ0A</td>\n",
       "      <td>Lillie's Asian Cuisine</td>\n",
       "      <td>129 E Fremont St</td>\n",
       "      <td>Las Vegas</td>\n",
       "      <td>NV</td>\n",
       "      <td>89101</td>\n",
       "      <td>36.170349</td>\n",
       "      <td>-115.144506</td>\n",
       "      <td>3.5</td>\n",
       "      <td>121</td>\n",
       "      <td>...</td>\n",
       "      <td>5xaFHey_NjidLtugo0mdAw</td>\n",
       "      <td>3.0</td>\n",
       "      <td>Sitting here for what seems like it has been f...</td>\n",
       "      <td>2019-10-13 04:25:49</td>\n",
       "      <td>533</td>\n",
       "      <td>97</td>\n",
       "      <td>0.018</td>\n",
       "      <td>0.711</td>\n",
       "      <td>0.271</td>\n",
       "      <td>0.9861</td>\n",
       "    </tr>\n",
       "    <tr>\n",
       "      <th>73274</th>\n",
       "      <td>INzLc1Y0JNQzIHjPH2Nbeg</td>\n",
       "      <td>Fuzzy's Taco Shop</td>\n",
       "      <td>7080 S Rainbow Blvd</td>\n",
       "      <td>Las Vegas</td>\n",
       "      <td>NV</td>\n",
       "      <td>89118</td>\n",
       "      <td>36.060044</td>\n",
       "      <td>-115.241666</td>\n",
       "      <td>3.5</td>\n",
       "      <td>252</td>\n",
       "      <td>...</td>\n",
       "      <td>acyl_5237y5MZMgnx_VeNA</td>\n",
       "      <td>5.0</td>\n",
       "      <td>I remember this chain from Texas and LOVE it!!...</td>\n",
       "      <td>2017-03-25 19:55:57</td>\n",
       "      <td>115</td>\n",
       "      <td>22</td>\n",
       "      <td>0.000</td>\n",
       "      <td>0.536</td>\n",
       "      <td>0.464</td>\n",
       "      <td>0.9485</td>\n",
       "    </tr>\n",
       "    <tr>\n",
       "      <th>73275</th>\n",
       "      <td>INzLc1Y0JNQzIHjPH2Nbeg</td>\n",
       "      <td>Fuzzy's Taco Shop</td>\n",
       "      <td>7080 S Rainbow Blvd</td>\n",
       "      <td>Las Vegas</td>\n",
       "      <td>NV</td>\n",
       "      <td>89118</td>\n",
       "      <td>36.060044</td>\n",
       "      <td>-115.241666</td>\n",
       "      <td>3.5</td>\n",
       "      <td>252</td>\n",
       "      <td>...</td>\n",
       "      <td>o-4WGmqWdNiiQFctHdjC8Q</td>\n",
       "      <td>4.0</td>\n",
       "      <td>Love Fuzzy's Taco Shop.  It's become my new ad...</td>\n",
       "      <td>2017-01-11 19:53:55</td>\n",
       "      <td>1161</td>\n",
       "      <td>221</td>\n",
       "      <td>0.050</td>\n",
       "      <td>0.794</td>\n",
       "      <td>0.156</td>\n",
       "      <td>0.9798</td>\n",
       "    </tr>\n",
       "    <tr>\n",
       "      <th>73276</th>\n",
       "      <td>INzLc1Y0JNQzIHjPH2Nbeg</td>\n",
       "      <td>Fuzzy's Taco Shop</td>\n",
       "      <td>7080 S Rainbow Blvd</td>\n",
       "      <td>Las Vegas</td>\n",
       "      <td>NV</td>\n",
       "      <td>89118</td>\n",
       "      <td>36.060044</td>\n",
       "      <td>-115.241666</td>\n",
       "      <td>3.5</td>\n",
       "      <td>252</td>\n",
       "      <td>...</td>\n",
       "      <td>HyDMhqf_ru13zau_OCyNBw</td>\n",
       "      <td>1.0</td>\n",
       "      <td>Found a part of a rubber glove in my tacos.  W...</td>\n",
       "      <td>2017-08-15 19:23:56</td>\n",
       "      <td>172</td>\n",
       "      <td>34</td>\n",
       "      <td>0.057</td>\n",
       "      <td>0.777</td>\n",
       "      <td>0.166</td>\n",
       "      <td>0.4949</td>\n",
       "    </tr>\n",
       "    <tr>\n",
       "      <th>73277</th>\n",
       "      <td>INzLc1Y0JNQzIHjPH2Nbeg</td>\n",
       "      <td>Fuzzy's Taco Shop</td>\n",
       "      <td>7080 S Rainbow Blvd</td>\n",
       "      <td>Las Vegas</td>\n",
       "      <td>NV</td>\n",
       "      <td>89118</td>\n",
       "      <td>36.060044</td>\n",
       "      <td>-115.241666</td>\n",
       "      <td>3.5</td>\n",
       "      <td>252</td>\n",
       "      <td>...</td>\n",
       "      <td>OVua8dER76E3doOupwWc-g</td>\n",
       "      <td>4.0</td>\n",
       "      <td>I'm from Texas and have been to many Fuzzy's o...</td>\n",
       "      <td>2016-10-19 00:28:15</td>\n",
       "      <td>516</td>\n",
       "      <td>102</td>\n",
       "      <td>0.018</td>\n",
       "      <td>0.729</td>\n",
       "      <td>0.253</td>\n",
       "      <td>0.9800</td>\n",
       "    </tr>\n",
       "  </tbody>\n",
       "</table>\n",
       "<p>36067 rows × 24 columns</p>\n",
       "</div>"
      ],
      "text/plain": [
       "                  business_id                    name              address  \\\n",
       "2431   viHcW-LLmOxBMHFm0jxPvQ              Grand Cafe    2411 W Sahara Ave   \n",
       "2432   viHcW-LLmOxBMHFm0jxPvQ              Grand Cafe    2411 W Sahara Ave   \n",
       "2433   viHcW-LLmOxBMHFm0jxPvQ              Grand Cafe    2411 W Sahara Ave   \n",
       "2434   viHcW-LLmOxBMHFm0jxPvQ              Grand Cafe    2411 W Sahara Ave   \n",
       "2435   viHcW-LLmOxBMHFm0jxPvQ              Grand Cafe    2411 W Sahara Ave   \n",
       "...                       ...                     ...                  ...   \n",
       "73273  1qTx9z8RMz7RIYKAfnpZ0A  Lillie's Asian Cuisine     129 E Fremont St   \n",
       "73274  INzLc1Y0JNQzIHjPH2Nbeg       Fuzzy's Taco Shop  7080 S Rainbow Blvd   \n",
       "73275  INzLc1Y0JNQzIHjPH2Nbeg       Fuzzy's Taco Shop  7080 S Rainbow Blvd   \n",
       "73276  INzLc1Y0JNQzIHjPH2Nbeg       Fuzzy's Taco Shop  7080 S Rainbow Blvd   \n",
       "73277  INzLc1Y0JNQzIHjPH2Nbeg       Fuzzy's Taco Shop  7080 S Rainbow Blvd   \n",
       "\n",
       "            city state  postal_code   latitude   longitude  stars  \\\n",
       "2431   Las Vegas    NV        89102  36.142946 -115.174936    3.0   \n",
       "2432   Las Vegas    NV        89102  36.142946 -115.174936    3.0   \n",
       "2433   Las Vegas    NV        89102  36.142946 -115.174936    3.0   \n",
       "2434   Las Vegas    NV        89102  36.142946 -115.174936    3.0   \n",
       "2435   Las Vegas    NV        89102  36.142946 -115.174936    3.0   \n",
       "...          ...   ...          ...        ...         ...    ...   \n",
       "73273  Las Vegas    NV        89101  36.170349 -115.144506    3.5   \n",
       "73274  Las Vegas    NV        89118  36.060044 -115.241666    3.5   \n",
       "73275  Las Vegas    NV        89118  36.060044 -115.241666    3.5   \n",
       "73276  Las Vegas    NV        89118  36.060044 -115.241666    3.5   \n",
       "73277  Las Vegas    NV        89118  36.060044 -115.241666    3.5   \n",
       "\n",
       "       review_count  ...                 user_id review_stars  \\\n",
       "2431            111  ...  L8P5OWO1Jh4B2HLa1Fnbng          3.0   \n",
       "2432            111  ...  2_8FRNMYopk_gQmPhq-vrw          3.0   \n",
       "2433            111  ...  jn6UGXNFPzKg-xNb5KVY0w          2.0   \n",
       "2434            111  ...  skmMotDjzynS0j4LxyFPzA          1.0   \n",
       "2435            111  ...  cWAkb8yR3T-gzITk-fPlbQ          1.0   \n",
       "...             ...  ...                     ...          ...   \n",
       "73273           121  ...  5xaFHey_NjidLtugo0mdAw          3.0   \n",
       "73274           252  ...  acyl_5237y5MZMgnx_VeNA          5.0   \n",
       "73275           252  ...  o-4WGmqWdNiiQFctHdjC8Q          4.0   \n",
       "73276           252  ...  HyDMhqf_ru13zau_OCyNBw          1.0   \n",
       "73277           252  ...  OVua8dER76E3doOupwWc-g          4.0   \n",
       "\n",
       "                                                    text                 date  \\\n",
       "2431   Though we have been to Palace Station countles...  2015-11-06 09:10:18   \n",
       "2432   Spent sometimes in this remodeled casino, drop...  2018-08-24 03:24:57   \n",
       "2433   The food is 5 stars!! But the one waitress I h...  2016-01-04 08:46:28   \n",
       "2434   Horrible service by Tiffany and Wayne. Literal...  2018-05-29 09:32:35   \n",
       "2435   Kandeli didn't really like the fact we were ea...  2018-07-26 11:08:16   \n",
       "...                                                  ...                  ...   \n",
       "73273  Sitting here for what seems like it has been f...  2019-10-13 04:25:49   \n",
       "73274  I remember this chain from Texas and LOVE it!!...  2017-03-25 19:55:57   \n",
       "73275  Love Fuzzy's Taco Shop.  It's become my new ad...  2017-01-11 19:53:55   \n",
       "73276  Found a part of a rubber glove in my tacos.  W...  2017-08-15 19:23:56   \n",
       "73277  I'm from Texas and have been to many Fuzzy's o...  2016-10-19 00:28:15   \n",
       "\n",
       "      char_count  word_count vader_neg vader_neu  vader_pos  vader_comp  \n",
       "2431         495          86     0.022     0.944      0.034      0.2589  \n",
       "2432         335          57     0.000     0.884      0.116      0.7269  \n",
       "2433        1092         228     0.125     0.788      0.088     -0.9198  \n",
       "2434         845         147     0.126     0.832      0.042     -0.9129  \n",
       "2435         445          84     0.034     0.905      0.061      0.5222  \n",
       "...          ...         ...       ...       ...        ...         ...  \n",
       "73273        533          97     0.018     0.711      0.271      0.9861  \n",
       "73274        115          22     0.000     0.536      0.464      0.9485  \n",
       "73275       1161         221     0.050     0.794      0.156      0.9798  \n",
       "73276        172          34     0.057     0.777      0.166      0.4949  \n",
       "73277        516         102     0.018     0.729      0.253      0.9800  \n",
       "\n",
       "[36067 rows x 24 columns]"
      ]
     },
     "execution_count": 49,
     "metadata": {},
     "output_type": "execute_result"
    }
   ],
   "source": [
    "closed_reviews"
   ]
  },
  {
   "cell_type": "code",
   "execution_count": null,
   "id": "fancy-decrease",
   "metadata": {},
   "outputs": [],
   "source": []
  }
 ],
 "metadata": {
  "kernelspec": {
   "display_name": "Python 3",
   "language": "python",
   "name": "python3"
  },
  "language_info": {
   "codemirror_mode": {
    "name": "ipython",
    "version": 3
   },
   "file_extension": ".py",
   "mimetype": "text/x-python",
   "name": "python",
   "nbconvert_exporter": "python",
   "pygments_lexer": "ipython3",
   "version": "3.8.2"
  }
 },
 "nbformat": 4,
 "nbformat_minor": 5
}
