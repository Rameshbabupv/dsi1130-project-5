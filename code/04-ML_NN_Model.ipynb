{
 "cells": [
  {
   "cell_type": "markdown",
   "metadata": {},
   "source": [
    "# Modeling with NN "
   ]
  },
  {
   "cell_type": "code",
   "execution_count": 27,
   "metadata": {},
   "outputs": [],
   "source": [
    "## Import need packages \n",
    "from keras.wrappers.scikit_learn import KerasClassifier\n",
    "import pandas as pd\n",
    "import numpy as np\n",
    "\n",
    "from keras.models import Sequential\n",
    "from keras.layers import Dense, BatchNormalization,Dropout\n",
    "\n",
    "from sklearn.model_selection import GridSearchCV, train_test_split\n",
    "from sklearn.pipeline import make_pipeline\n",
    "from sklearn.preprocessing import StandardScaler\n",
    "from sklearn.feature_extraction.text import CountVectorizer, TfidfVectorizer\n",
    "from sklearn.metrics import plot_confusion_matrix, confusion_matrix\n",
    "from sklearn.metrics import accuracy_score\n",
    "from sklearn.preprocessing import StandardScaler\n",
    "import matplotlib.pyplot as plt"
   ]
  },
  {
   "cell_type": "code",
   "execution_count": 5,
   "metadata": {},
   "outputs": [],
   "source": [
    "def print_scores(model):\n",
    "    print(f'train score: {model.score(X_train, y_train)}')\n",
    "    print(f'test score: {model.score(X_test, y_test)}')"
   ]
  },
  {
   "cell_type": "code",
   "execution_count": 6,
   "metadata": {},
   "outputs": [],
   "source": [
    "def create_model(units=60, dropout=0, reg=None):\n",
    "    model = Sequential()\n",
    "    model.add(Dense(12, input_shape=(1000,), activation='relu'))\n",
    "    model.add(BatchNormalization())\n",
    "    \n",
    "    model.add(Dense(units, activation='relu', kernel_regularizer = reg))\n",
    "    model.add(Dropout(dropout))\n",
    " \n",
    "    \n",
    "    model.add(Dense(1, activation='sigmoid'))\n",
    "    model.compile(loss='binary_crossentropy', optimizer='adam', metrics=['accuracy'])\n",
    "    return model"
   ]
  },
  {
   "cell_type": "code",
   "execution_count": 7,
   "metadata": {},
   "outputs": [],
   "source": [
    "# df_reviews = pd.read_csv('../data/Las_Vegas_400_reviews.csv')\n",
    "# df_reviews = pd.read_csv('../data/Las_Vegas_all_1000_reviews.csv')\n",
    "df_reviews = pd.read_csv('../data/Las_Vegas_all_reviews.csv')\n",
    "df_revs_combined = df_reviews.groupby(['business_id', 'name', \n",
    "                               'address', 'city' ,\n",
    "                               'state', 'postal_code', \n",
    "                               'latitude' ,'longitude' , \n",
    "                               'stars', 'review_count', \n",
    "                               'is_open', 'attributes', 'categories']).agg({'text': ' '.join})\n",
    "df_revs_combined = df_revs_combined.reset_index()\n",
    "df_revs_combined['review_wc'] = df_revs_combined['text'].str.split().str.len()\n",
    "\n",
    "X = df_revs_combined['text']\n",
    "y = df_revs_combined['is_open']\n",
    "\n",
    "X_train, X_test, y_train, y_test = train_test_split(X, y, random_state=251)"
   ]
  },
  {
   "cell_type": "code",
   "execution_count": 8,
   "metadata": {},
   "outputs": [],
   "source": [
    "tf_vect = TfidfVectorizer(stop_words='english', max_features=1000)\n",
    "X_train_trans = tf_vect.fit_transform(X_train)\n",
    "X_test_trans = tf_vect.transform(X_test)\n",
    "X_train_trans = X_train_trans.toarray()\n",
    "X_test_trans = X_test_trans.toarray()"
   ]
  },
  {
   "cell_type": "code",
   "execution_count": 9,
   "metadata": {},
   "outputs": [
    {
     "data": {
      "text/plain": [
       "((1326, 1000), (442, 1000))"
      ]
     },
     "execution_count": 9,
     "metadata": {},
     "output_type": "execute_result"
    }
   ],
   "source": [
    "X_train_trans.shape, X_test_trans.shape"
   ]
  },
  {
   "cell_type": "code",
   "execution_count": 10,
   "metadata": {},
   "outputs": [],
   "source": [
    "sscaler = StandardScaler(with_mean=False)\n",
    "model = KerasClassifier(build_fn=create_model, epochs=10, verbose=0)\n",
    "pipe = make_pipeline(sscaler,model)"
   ]
  },
  {
   "cell_type": "code",
   "execution_count": 11,
   "metadata": {},
   "outputs": [
    {
     "data": {
      "text/plain": [
       "Pipeline(steps=[('standardscaler', StandardScaler(with_mean=False)),\n",
       "                ('kerasclassifier',\n",
       "                 <tensorflow.python.keras.wrappers.scikit_learn.KerasClassifier object at 0x7f794224ab50>)])"
      ]
     },
     "execution_count": 11,
     "metadata": {},
     "output_type": "execute_result"
    }
   ],
   "source": [
    "pipe.fit(X_train_trans, y_train)"
   ]
  },
  {
   "cell_type": "code",
   "execution_count": 12,
   "metadata": {},
   "outputs": [],
   "source": [
    "# params = {'kerasclassifier__units': [10, 20, 100]}\n",
    "params = {'kerasclassifier__units': [64, 128, 256, 512],\n",
    "          'kerasclassifier__dropout':[0.2, 0.3, 0.4, 0.5],\n",
    "          'kerasclassifier__reg':['l2', None],\n",
    "         }\n",
    "grid = GridSearchCV(pipe, param_grid=params)"
   ]
  },
  {
   "cell_type": "code",
   "execution_count": 13,
   "metadata": {},
   "outputs": [
    {
     "data": {
      "text/plain": [
       "GridSearchCV(estimator=Pipeline(steps=[('standardscaler',\n",
       "                                        StandardScaler(with_mean=False)),\n",
       "                                       ('kerasclassifier',\n",
       "                                        <tensorflow.python.keras.wrappers.scikit_learn.KerasClassifier object at 0x7f794224ab50>)]),\n",
       "             param_grid={'kerasclassifier__dropout': [0.2, 0.3, 0.4, 0.5],\n",
       "                         'kerasclassifier__reg': ['l2', None],\n",
       "                         'kerasclassifier__units': [64, 128, 256, 512]})"
      ]
     },
     "execution_count": 13,
     "metadata": {},
     "output_type": "execute_result"
    }
   ],
   "source": [
    "grid.fit(X_train_trans, y_train)"
   ]
  },
  {
   "cell_type": "code",
   "execution_count": 14,
   "metadata": {},
   "outputs": [
    {
     "data": {
      "text/plain": [
       "0.9819004535675049"
      ]
     },
     "execution_count": 14,
     "metadata": {},
     "output_type": "execute_result"
    }
   ],
   "source": [
    "grid.score(X_train_trans, y_train)"
   ]
  },
  {
   "cell_type": "code",
   "execution_count": 15,
   "metadata": {},
   "outputs": [
    {
     "data": {
      "text/plain": [
       "0.8280543088912964"
      ]
     },
     "execution_count": 15,
     "metadata": {},
     "output_type": "execute_result"
    }
   ],
   "source": [
    "grid.score(X_test_trans, y_test)"
   ]
  },
  {
   "cell_type": "code",
   "execution_count": 16,
   "metadata": {},
   "outputs": [
    {
     "data": {
      "text/plain": [
       "{'kerasclassifier__dropout': 0.5,\n",
       " 'kerasclassifier__reg': 'l2',\n",
       " 'kerasclassifier__units': 128}"
      ]
     },
     "execution_count": 16,
     "metadata": {},
     "output_type": "execute_result"
    }
   ],
   "source": [
    "grid.best_params_"
   ]
  },
  {
   "cell_type": "code",
   "execution_count": 17,
   "metadata": {},
   "outputs": [
    {
     "data": {
      "text/plain": [
       "1    0.724548\n",
       "0    0.275452\n",
       "Name: is_open, dtype: float64"
      ]
     },
     "execution_count": 17,
     "metadata": {},
     "output_type": "execute_result"
    }
   ],
   "source": [
    "df_revs_combined['is_open'].value_counts(normalize=True)"
   ]
  },
  {
   "cell_type": "code",
   "execution_count": 18,
   "metadata": {},
   "outputs": [
    {
     "name": "stderr",
     "output_type": "stream",
     "text": [
      "/home/babu/code/jupyterenvironment/lib/python3.8/site-packages/tensorflow/python/keras/engine/sequential.py:450: UserWarning: `model.predict_classes()` is deprecated and will be removed after 2021-01-01. Please use instead:* `np.argmax(model.predict(x), axis=-1)`,   if your model does multi-class classification   (e.g. if it uses a `softmax` last-layer activation).* `(model.predict(x) > 0.5).astype(\"int32\")`,   if your model does binary classification   (e.g. if it uses a `sigmoid` last-layer activation).\n",
      "  warnings.warn('`model.predict_classes()` is deprecated and '\n"
     ]
    }
   ],
   "source": [
    "# predics = np.argmax(grid.predict(X_test_trans), axis=1)\n",
    "predics =  grid.predict(X_test_trans)"
   ]
  },
  {
   "cell_type": "code",
   "execution_count": 19,
   "metadata": {},
   "outputs": [],
   "source": [
    "#predics"
   ]
  },
  {
   "cell_type": "code",
   "execution_count": 20,
   "metadata": {},
   "outputs": [],
   "source": [
    "tn, fp, fn,tp = confusion_matrix(y_test, predics).ravel()"
   ]
  },
  {
   "cell_type": "code",
   "execution_count": 21,
   "metadata": {},
   "outputs": [
    {
     "name": "stdout",
     "output_type": "stream",
     "text": [
      "78 45 31 288\n"
     ]
    }
   ],
   "source": [
    "print(tn, fp, fn,tp)"
   ]
  },
  {
   "cell_type": "code",
   "execution_count": 22,
   "metadata": {},
   "outputs": [],
   "source": [
    "#plot_roc_curve(pipe, X_test_encoded, y_test);"
   ]
  },
  {
   "cell_type": "code",
   "execution_count": 23,
   "metadata": {},
   "outputs": [
    {
     "name": "stdout",
     "output_type": "stream",
     "text": [
      " Precision: 0.8648648648648649\n",
      " Recall: 0.9028213166144201\n",
      " Specificity: 0.9028213166144201\n",
      " Balanced Accuracy: 0.7684838290389173\n",
      " Accuracy Score: 0.8280542986425339\n",
      " False Positive Rate : 0.36585365853658536\n"
     ]
    }
   ],
   "source": [
    "precision = tp / (tp+fp)\n",
    "recall = tp / (tp+fn)\n",
    "specificity = tn/(tn+fp)\n",
    "balanced_accuracy = (specificity + recall)/2\n",
    "ac = accuracy_score(y_test, predics)\n",
    "fpr = fp / (fp+tn) # False Positive Rate \n",
    "print(f\" Precision: {precision}\")\n",
    "print(f\" Recall: {recall}\")\n",
    "print(f\" Specificity: {recall}\")\n",
    "print(f\" Balanced Accuracy: {balanced_accuracy}\")\n",
    "print(f\" Accuracy Score: {ac}\")\n",
    "print(f\" False Positive Rate : {fpr}\")"
   ]
  },
  {
   "cell_type": "markdown",
   "metadata": {},
   "source": [
    "# Running NN with best Params"
   ]
  },
  {
   "cell_type": "markdown",
   "metadata": {},
   "source": [
    "## dropout =  0.5\n",
    "## reg = 'l2'\n",
    "## units =  128"
   ]
  },
  {
   "cell_type": "code",
   "execution_count": 30,
   "metadata": {},
   "outputs": [],
   "source": [
    "sscaler = StandardScaler(with_mean=False)\n",
    "X_train_scaled = sscaler.fit_transform(X_train_trans)\n",
    "X_test_scaled = sscaler.transform(X_test_trans)"
   ]
  },
  {
   "cell_type": "code",
   "execution_count": 34,
   "metadata": {},
   "outputs": [],
   "source": [
    "model = Sequential()\n",
    "model.add(Dense(12, input_shape=(1000,), activation='relu'))\n",
    "model.add(BatchNormalization())\n",
    "model.add(Dense(128, activation='relu', kernel_regularizer = 'l2'))\n",
    "model.add(Dropout(0.5))\n",
    "model.add(Dense(1, activation='sigmoid'))\n",
    "model.compile(loss='binary_crossentropy', optimizer='adam', metrics=['accuracy'])"
   ]
  },
  {
   "cell_type": "code",
   "execution_count": 35,
   "metadata": {},
   "outputs": [
    {
     "name": "stdout",
     "output_type": "stream",
     "text": [
      "Epoch 1/10\n",
      "42/42 [==============================] - 1s 4ms/step - loss: 0.8505 - accuracy: 0.6362 - val_loss: 0.7967 - val_accuracy: 0.7217\n",
      "Epoch 2/10\n",
      "42/42 [==============================] - 0s 2ms/step - loss: 0.7052 - accuracy: 0.7254 - val_loss: 0.7336 - val_accuracy: 0.7217\n",
      "Epoch 3/10\n",
      "42/42 [==============================] - 0s 2ms/step - loss: 0.6033 - accuracy: 0.7805 - val_loss: 0.6841 - val_accuracy: 0.7217\n",
      "Epoch 4/10\n",
      "42/42 [==============================] - 0s 2ms/step - loss: 0.5242 - accuracy: 0.8056 - val_loss: 0.6326 - val_accuracy: 0.7217\n",
      "Epoch 5/10\n",
      "42/42 [==============================] - 0s 2ms/step - loss: 0.4479 - accuracy: 0.8641 - val_loss: 0.6030 - val_accuracy: 0.7217\n",
      "Epoch 6/10\n",
      "42/42 [==============================] - 0s 2ms/step - loss: 0.4068 - accuracy: 0.8624 - val_loss: 0.5661 - val_accuracy: 0.7262\n",
      "Epoch 7/10\n",
      "42/42 [==============================] - 0s 2ms/step - loss: 0.3307 - accuracy: 0.8971 - val_loss: 0.5471 - val_accuracy: 0.7489\n",
      "Epoch 8/10\n",
      "42/42 [==============================] - 0s 2ms/step - loss: 0.3094 - accuracy: 0.9023 - val_loss: 0.5080 - val_accuracy: 0.7964\n",
      "Epoch 9/10\n",
      "42/42 [==============================] - 0s 2ms/step - loss: 0.2742 - accuracy: 0.9191 - val_loss: 0.5010 - val_accuracy: 0.7919\n",
      "Epoch 10/10\n",
      "42/42 [==============================] - 0s 2ms/step - loss: 0.2405 - accuracy: 0.9329 - val_loss: 0.4617 - val_accuracy: 0.8281\n"
     ]
    }
   ],
   "source": [
    "history = model.fit(X_train_trans, y_train, validation_data=(X_test_trans, y_test), epochs = 10)"
   ]
  },
  {
   "cell_type": "code",
   "execution_count": 36,
   "metadata": {},
   "outputs": [
    {
     "data": {
      "image/png": "[encoded data removed]",
      "text/plain": [
       "<Figure size 432x288 with 1 Axes>"
      ]
     },
     "metadata": {
      "needs_background": "light"
     },
     "output_type": "display_data"
    }
   ],
   "source": [
    "plt.plot(history.history['val_loss'], label='Test Loss')\n",
    "plt.plot(history.history['loss'], label=\"Train Loss\")\n",
    "plt.legend()\n",
    "plt.title('Validation Metrics')\n",
    "plt.xlabel(\"Epochs\")\n",
    "plt.ylabel(\"Loss Score\");"
   ]
  },
  {
   "cell_type": "code",
   "execution_count": null,
   "metadata": {},
   "outputs": [],
   "source": []
  }
 ],
 "metadata": {
  "kernelspec": {
   "display_name": "Python 3",
   "language": "python",
   "name": "python3"
  },
  "language_info": {
   "codemirror_mode": {
    "name": "ipython",
    "version": 3
   },
   "file_extension": ".py",
   "mimetype": "text/x-python",
   "name": "python",
   "nbconvert_exporter": "python",
   "pygments_lexer": "ipython3",
   "version": "3.8.5"
  }
 },
 "nbformat": 4,
 "nbformat_minor": 4
}
